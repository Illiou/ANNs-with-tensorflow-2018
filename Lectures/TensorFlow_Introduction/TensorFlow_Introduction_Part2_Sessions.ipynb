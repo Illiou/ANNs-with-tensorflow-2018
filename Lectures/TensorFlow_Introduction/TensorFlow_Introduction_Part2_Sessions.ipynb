{
 "cells": [
  {
   "cell_type": "code",
   "execution_count": 2,
   "metadata": {},
   "outputs": [],
   "source": [
    "import tensorflow as tf\n",
    "import numpy as np"
   ]
  },
  {
   "cell_type": "markdown",
   "metadata": {},
   "source": [
    "### Defining the graph"
   ]
  },
  {
   "cell_type": "code",
   "execution_count": 4,
   "metadata": {},
   "outputs": [
    {
     "name": "stdout",
     "output_type": "stream",
     "text": [
      "Tensor(\"Const:0\", shape=(3,), dtype=int32)\n",
      "Tensor(\"pow:0\", shape=(), dtype=int32)\n"
     ]
    }
   ],
   "source": [
    "# Always do this in the beginning to clear the graph that is stored.\n",
    "tf.reset_default_graph()\n",
    "# The graph only defines the tensors and the operation at so called nodes.\n",
    "x = tf.constant([1,3,4])\n",
    "y = tf.constant(2)\n",
    "sum1 = tf.reduce_sum(x)\n",
    "sum2 = sum1 + y\n",
    "z = sum2**2\n",
    "# You can see the name, shape and dtype of the tensor by printing it.\n",
    "print(x)\n",
    "print(z)"
   ]
  },
  {
   "cell_type": "markdown",
   "metadata": {},
   "source": [
    "### Evaluate the graph (Sessions)"
   ]
  },
  {
   "cell_type": "code",
   "execution_count": 5,
   "metadata": {},
   "outputs": [
    {
     "name": "stdout",
     "output_type": "stream",
     "text": [
      "100\n"
     ]
    }
   ],
   "source": [
    "# A graph is evaluated with a tensorflow session.\n",
    "# Anything you want to evaluate has to be specified as an argument.\n",
    "with tf.Session() as sess:\n",
    "    z_val = sess.run(z) # Do not use the same variable name for the evaluated variable!\n",
    "    print(z_val)"
   ]
  },
  {
   "cell_type": "code",
   "execution_count": 6,
   "metadata": {},
   "outputs": [],
   "source": [
    "# Do not override node names.\n",
    "# Works one time but then the node is overwritten.\n",
    "#with tf.Session() as sess:\n",
    "    #sum1 = sess.run(sum1)\n",
    "    #print(sum1) "
   ]
  },
  {
   "cell_type": "code",
   "execution_count": 7,
   "metadata": {},
   "outputs": [
    {
     "name": "stdout",
     "output_type": "stream",
     "text": [
      "10 100\n"
     ]
    }
   ],
   "source": [
    "# If you want to evaluate multiple nodes, give them as a list.\n",
    "with tf.Session() as sess:\n",
    "    sum2_val, z_val = sess.run((sum2, z))\n",
    "    print(sum2_val, z_val)"
   ]
  },
  {
   "cell_type": "markdown",
   "metadata": {},
   "source": [
    "### Constants"
   ]
  },
  {
   "cell_type": "code",
   "execution_count": 9,
   "metadata": {},
   "outputs": [],
   "source": [
    "# Constants are fixed values. Used as factors and initialization values.\n",
    "a = tf.constant(4, dtype = tf.float32)\n",
    "\n",
    "# You can also use numpy arrays to initialize them.\n",
    "b = tf.constant(np.array([1,2,3]))"
   ]
  },
  {
   "cell_type": "markdown",
   "metadata": {},
   "source": [
    "### Variables"
   ]
  },
  {
   "cell_type": "code",
   "execution_count": 16,
   "metadata": {},
   "outputs": [
    {
     "name": "stdout",
     "output_type": "stream",
     "text": [
      "-1.2153624\n",
      "-1.2153624\n",
      "-1.2153624\n",
      "-1.2153624\n",
      "-1.2153624\n"
     ]
    }
   ],
   "source": [
    "# Variables are changeable values. Need to be initialized. Used for weights.\n",
    "\n",
    "tf.reset_default_graph()\n",
    "\n",
    "a = tf.constant(2, dtype = tf.float32)\n",
    "b = tf.random_normal([], stddev = 0.5)\n",
    "c = tf.Variable(b, dtype = tf.float32)\n",
    "c = tf.multiply(a,c) # This does not reassign the variable!\n",
    "\n",
    "with tf.Session() as sess:\n",
    "    # You need to run this session to initialize all variables.\n",
    "    sess.run(tf.global_variables_initializer())\n",
    "    for i in range(5):\n",
    "        print(sess.run(c))"
   ]
  },
  {
   "cell_type": "code",
   "execution_count": 17,
   "metadata": {},
   "outputs": [
    {
     "name": "stdout",
     "output_type": "stream",
     "text": [
      "0.36984527\n",
      "0.73969054\n",
      "1.4793811\n",
      "2.9587622\n",
      "5.9175243\n"
     ]
    }
   ],
   "source": [
    "tf.reset_default_graph()\n",
    "\n",
    "a = tf.constant(2, dtype = tf.float32)\n",
    "b = tf.random_normal([], stddev = 0.5)\n",
    "c = tf.Variable(b, dtype = tf.float32)\n",
    "c = tf.assign(c, tf.multiply(a,c)) # This does!\n",
    "\n",
    "with tf.Session() as session:\n",
    "    # You need to run this session to initialize all variables.\n",
    "    session.run(tf.global_variables_initializer())\n",
    "    for i in range(5):\n",
    "        print(session.run(c))"
   ]
  },
  {
   "cell_type": "code",
   "execution_count": null,
   "metadata": {},
   "outputs": [],
   "source": []
  }
 ],
 "metadata": {
  "kernelspec": {
   "display_name": "Python 3",
   "language": "python",
   "name": "python3"
  },
  "language_info": {
   "codemirror_mode": {
    "name": "ipython",
    "version": 3
   },
   "file_extension": ".py",
   "mimetype": "text/x-python",
   "name": "python",
   "nbconvert_exporter": "python",
   "pygments_lexer": "ipython3",
   "version": "3.6.6"
  }
 },
 "nbformat": 4,
 "nbformat_minor": 2
}
