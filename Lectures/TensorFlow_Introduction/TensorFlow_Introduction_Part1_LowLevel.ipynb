{
 "cells": [
  {
   "cell_type": "code",
   "execution_count": 1,
   "metadata": {},
   "outputs": [],
   "source": [
    "import tensorflow as tf\n",
    "import numpy as np\n",
    "# We will enable eager execution in this notebook to be able to print tensors directly, usually we WON'T do this.\n",
    "tf.enable_eager_execution()"
   ]
  },
  {
   "cell_type": "markdown",
   "metadata": {},
   "source": [
    "### Important Trick\n",
    "Press Tab for autofill.  \n",
    "Press Ctrl+ (1x/2x/4x) Tab for different kinds of documentation."
   ]
  },
  {
   "cell_type": "code",
   "execution_count": 2,
   "metadata": {},
   "outputs": [],
   "source": [
    "complex_long_variable_name = 3"
   ]
  },
  {
   "cell_type": "code",
   "execution_count": 7,
   "metadata": {},
   "outputs": [],
   "source": [
    "x = complex_long_variable_name\n",
    "b = np.mean(x)"
   ]
  },
  {
   "cell_type": "markdown",
   "metadata": {},
   "source": [
    "### What is a Tensor?\n",
    "\n",
    "For our use it is sufficient to look at tensors as multidimensional arrays.  \n",
    "A 0-dimensional tensor would be a scalar. Shape ().  \n",
    "A 1-dimensional tensor would be a vector. Shape (n,).  \n",
    "A 2-dimensional tensor would be a matrix. Shape (m,n).  \n",
    "A 3-dimensional tensor is like \"a cube with numbers\". Shape (l,m,n).  \n",
    "..."
   ]
  },
  {
   "cell_type": "markdown",
   "metadata": {},
   "source": [
    "### Arithmetic Operators"
   ]
  },
  {
   "cell_type": "code",
   "execution_count": 4,
   "metadata": {},
   "outputs": [
    {
     "name": "stdout",
     "output_type": "stream",
     "text": [
      "tf.Tensor([2. 2. 2.], shape=(3,), dtype=float32)\n"
     ]
    }
   ],
   "source": [
    "# Arithmetic Operators are just like in numpy.\n",
    "\n",
    "a = 3.0 * tf.ones(3) # (3, 3, 3)\n",
    "b = -1.0 * tf.ones(3) # (-1, -1, -1)\n",
    "c = tf.add(a,b)\n",
    "print(c)\n",
    "# c = tf.substract(a,b)\n",
    "# c = tf.multiply(a, b)\n",
    "# c = tf.divide(a,b)\n",
    "# c = tf.mod(a,b)\n",
    "# etc."
   ]
  },
  {
   "cell_type": "code",
   "execution_count": 5,
   "metadata": {},
   "outputs": [
    {
     "name": "stdout",
     "output_type": "stream",
     "text": [
      "tf.Tensor([2. 2. 2.], shape=(3,), dtype=float32)\n"
     ]
    }
   ],
   "source": [
    "# You can also use the \"normal\" operators.\n",
    "\n",
    "c = a + b\n",
    "print(c)\n",
    "# c = a-b\n",
    "# c = a*b\n",
    "# c = a/b\n",
    "# c = a%b\n",
    "# etc."
   ]
  },
  {
   "cell_type": "markdown",
   "metadata": {},
   "source": [
    "### Basic Math Functions"
   ]
  },
  {
   "cell_type": "code",
   "execution_count": 6,
   "metadata": {},
   "outputs": [
    {
     "name": "stdout",
     "output_type": "stream",
     "text": [
      "tf.Tensor([7.389056 7.389056 7.389056], shape=(3,), dtype=float32)\n"
     ]
    }
   ],
   "source": [
    "d = tf.exp(c)\n",
    "print(d)\n",
    "# d = tf.abs(a)\n",
    "# d = tf.sqrt(a)\n",
    "# d = tf.square(a)\n",
    "# d = tf.sin(a)\n",
    "# etc."
   ]
  },
  {
   "cell_type": "markdown",
   "metadata": {},
   "source": [
    "### Matrix Math Functions"
   ]
  },
  {
   "cell_type": "code",
   "execution_count": 9,
   "metadata": {},
   "outputs": [
    {
     "name": "stdout",
     "output_type": "stream",
     "text": [
      "tf.Tensor(\n",
      "[[1. 1. 1.]\n",
      " [1. 1. 1.]\n",
      " [1. 1. 1.]], shape=(3, 3), dtype=float32)\n",
      "tf.Tensor(3.0, shape=(), dtype=float32)\n",
      "tf.Tensor(\n",
      "[[3. 3. 3.]\n",
      " [3. 3. 3.]\n",
      " [3. 3. 3.]], shape=(3, 3), dtype=float32)\n"
     ]
    }
   ],
   "source": [
    "M = tf.ones((3,3)) # 3x3 matrix filled with 1\n",
    "print(M)\n",
    "e = tf.norm(M)\n",
    "print(e)\n",
    "N = tf.matmul(M,M) # or M @ M \n",
    "print(N)\n",
    "# N = tf.transpose(M)\n",
    "# etc."
   ]
  },
  {
   "cell_type": "markdown",
   "metadata": {},
   "source": [
    "### Reduction"
   ]
  },
  {
   "cell_type": "code",
   "execution_count": 10,
   "metadata": {},
   "outputs": [
    {
     "name": "stdout",
     "output_type": "stream",
     "text": [
      "tf.Tensor(\n",
      "[[1. 1. 1.]\n",
      " [1. 1. 1.]\n",
      " [1. 1. 1.]], shape=(3, 3), dtype=float32)\n",
      "tf.Tensor([3. 3. 3.], shape=(3,), dtype=float32)\n",
      "tf.Tensor(\n",
      "[[3. 3. 3.]\n",
      " [3. 3. 3.]\n",
      " [3. 3. 3.]], shape=(3, 3), dtype=float32)\n",
      "tf.Tensor(3.0, shape=(), dtype=float32)\n"
     ]
    }
   ],
   "source": [
    "# Reduction operations reduce the dimensionality of a tensor.\n",
    "m = tf.reduce_sum(M, axis=1)\n",
    "print(M)\n",
    "print(m)\n",
    "n = tf.reduce_mean(N)\n",
    "print(N)\n",
    "print(n)\n",
    "# n = tf.reduce_min(N)"
   ]
  }
 ],
 "metadata": {
  "kernelspec": {
   "display_name": "Python 3",
   "language": "python",
   "name": "python3"
  },
  "language_info": {
   "codemirror_mode": {
    "name": "ipython",
    "version": 3
   },
   "file_extension": ".py",
   "mimetype": "text/x-python",
   "name": "python",
   "nbconvert_exporter": "python",
   "pygments_lexer": "ipython3",
   "version": "3.6.6"
  }
 },
 "nbformat": 4,
 "nbformat_minor": 2
}
