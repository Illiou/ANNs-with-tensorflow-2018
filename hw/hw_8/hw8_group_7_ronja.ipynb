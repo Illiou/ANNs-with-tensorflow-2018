{
 "cells": [
  {
   "cell_type": "code",
   "execution_count": 1,
   "metadata": {},
   "outputs": [],
   "source": [
    "import numpy as np\n",
    "import tensorflow as tf\n",
    "import struct\n",
    "import matplotlib.pyplot as plt"
   ]
  },
  {
   "cell_type": "code",
   "execution_count": 2,
   "metadata": {},
   "outputs": [],
   "source": [
    "def read_idx(filename):\n",
    "    with open(filename, 'rb') as f:\n",
    "        zero, data_type, dims = struct.unpack('>HBB', f.read(4))\n",
    "        shape = tuple(struct.unpack('>I', f.read(4))[0] for d in range(dims))\n",
    "        return np.frombuffer(f.read(), dtype=np.uint8).reshape(shape)"
   ]
  },
  {
   "cell_type": "code",
   "execution_count": 3,
   "metadata": {},
   "outputs": [
    {
     "name": "stdout",
     "output_type": "stream",
     "text": [
      "(60000, 28, 28)\n"
     ]
    }
   ],
   "source": [
    "#loading the dataset \n",
    "data = read_idx('/Users/Ronja/Desktop/ANNh/hw2/MNISt/train-images.idx3-ubyte')\n",
    "data = (data/255) * 2 - 1\n",
    "print(data.shape)"
   ]
  },
  {
   "cell_type": "code",
   "execution_count": 4,
   "metadata": {},
   "outputs": [
    {
     "data": {
      "image/png": "[encoded data removed]",
      "text/plain": [
       "<Figure size 720x720 with 10 Axes>"
      ]
     },
     "metadata": {
      "needs_background": "light"
     },
     "output_type": "display_data"
    }
   ],
   "source": [
    "# displaying the first 10 training examples\n",
    "fig, ax = plt.subplots(1,10,figsize=(10,10))\n",
    "for i in range(10): ax[i].imshow(data[i])"
   ]
  },
  {
   "cell_type": "markdown",
   "metadata": {},
   "source": [
    "## Building the model"
   ]
  },
  {
   "cell_type": "code",
   "execution_count": 5,
   "metadata": {},
   "outputs": [],
   "source": [
    "#helper functions\n",
    "def feed_forward_layer(x, hidden_n, activation_fn, normalize):\n",
    "    initializer = tf.random_normal_initializer(stddev=0.02)\n",
    "    weights = tf.get_variable(\"weights\", [x.shape[1], hidden_n], tf.float32, initializer)\n",
    "    biases = tf.get_variable(\"biases\", [hidden_n], tf.float32, tf.zeros_initializer())\n",
    "   \n",
    "    drive = tf.matmul(x, weights) + biases\n",
    "    if normalize:\n",
    "        drive = batch_norm(drive, [0])\n",
    "   \n",
    "    if activation_fn == 'linear':\n",
    "        return drive\n",
    "    else:\n",
    "        return activation_fn(drive)\n",
    "\n",
    "\n",
    "def conv_layer(x, kernels_n, kernel_size, stride_size, activation_fn, normalize):\n",
    "    initializer = tf.random_normal_initializer(stddev=0.02)\n",
    "    kernels = tf.get_variable(\"kernels\", [kernel_size, kernel_size, x.shape[-1], kernels_n], tf.float32, initializer)\n",
    "    biases = tf.get_variable(\"biases\", [kernels_n], tf.float32, tf.zeros_initializer())\n",
    "\n",
    "    drive = tf.nn.conv2d(x, kernels, strides = [1, stride_size, stride_size, 1], padding = \"SAME\") + biases\n",
    "    if normalize:\n",
    "        drive = batch_norm(drive, [0,1,2])\n",
    "    \n",
    "    return activation_fn(drive)\n",
    "\n",
    "\n",
    "def back_conv_layer(x, target_shape, kernel_size, stride_size, activation_fn, normalize):\n",
    "    initializer = tf.random_normal_initializer(stddev=0.02)\n",
    "    kernels = tf.get_variable(\"kernels\", [kernel_size, kernel_size, target_shape[-1], x.shape[-1]], tf.float32, initializer)\n",
    "    biases = tf.get_variable(\"biases\", [target_shape[-1]], tf.float32, tf.zeros_initializer())\n",
    "\n",
    "    drive = tf.nn.conv2d_transpose(x, kernels, target_shape, strides = [1, stride_size, stride_size, 1], padding = \"SAME\") + biases\n",
    "    if normalize:\n",
    "        drive = batch_norm(drive, [0,1,2])\n",
    "    \n",
    "    return activation_fn(drive)\n",
    "\n",
    "\n",
    "def flatten(x):\n",
    "    size = int(np.prod(x.shape[1:]))\n",
    "    return tf.reshape(x, [-1, size])\n",
    "\n",
    "\n",
    "def batch_norm(x, axes):\n",
    "    mean, var = tf.nn.moments(x, axes = axes)\n",
    "    offset_initializer = tf.constant_initializer(0.0)\n",
    "    offset = tf.get_variable(\"offset\", [x.shape[-1]], tf.float32, offset_initializer)\n",
    "    scale_initializer = tf.constant_initializer(1.0)\n",
    "    scale = tf.get_variable(\"scale\", [x.shape[-1]], tf.float32, scale_initializer)\n",
    "    return tf.nn.batch_normalization(x, mean, var, offset, scale, 1e-6)"
   ]
  },
  {
   "cell_type": "markdown",
   "metadata": {},
   "source": [
    "All convolutional and transposed-convolutional layers use ker- nel size 5 and stride size 2!"
   ]
  },
  {
   "cell_type": "code",
   "execution_count": 6,
   "metadata": {},
   "outputs": [],
   "source": [
    "kernel_size = 5\n",
    "stride_size = 2"
   ]
  },
  {
   "cell_type": "markdown",
   "metadata": {},
   "source": [
    "### Input to Generator\n",
    "In each training step the generator will get 32 random vectors of dimension 50. For that we need a placeholder. The random vectors will be generated later in the session.\n"
   ]
  },
  {
   "cell_type": "code",
   "execution_count": 7,
   "metadata": {},
   "outputs": [
    {
     "name": "stdout",
     "output_type": "stream",
     "text": [
      "Tensor(\"Placeholder:0\", shape=(32, 50), dtype=float32)\n"
     ]
    }
   ],
   "source": [
    "vectors = tf.placeholder(tf.float32, shape=(32,50))\n",
    "print(vectors)"
   ]
  },
  {
   "cell_type": "markdown",
   "metadata": {},
   "source": [
    "### Generator Layer 1\n",
    "The first layer is a fully connected feed forward layer with 1024 hidden nodes. Use ReLU activation function and batch norm. The 1024 nodes are then reshaped to 64 feature maps of size 4x4."
   ]
  },
  {
   "cell_type": "code",
   "execution_count": 8,
   "metadata": {},
   "outputs": [
    {
     "name": "stdout",
     "output_type": "stream",
     "text": [
      "Tensor(\"generator_layer1/Reshape:0\", shape=(32, 4, 4, 64), dtype=float32)\n"
     ]
    }
   ],
   "source": [
    "with tf.variable_scope(\"generator_layer1\", reuse=tf.AUTO_REUSE):\n",
    "    x = vectors\n",
    "    hidden_n = 1024\n",
    "    activation_fn = tf.nn.relu\n",
    "    normalize = True\n",
    "    #applying feed_forward layer\n",
    "    feed_forward_output = feed_forward_layer(x, hidden_n, activation_fn, normalize)\n",
    "    #reshape to 64 feature maps of size 4x4\n",
    "    layer_1 = tf.reshape(tensor = feed_forward_output, shape = (32,4,4,64))\n",
    "    print(layer_1)"
   ]
  },
  {
   "cell_type": "markdown",
   "metadata": {},
   "source": [
    "### Generator Layer 2\n",
    "This layer is a transposed convolutional layer. Layer 2 upsamples the previous 64 feature maps to 32 feature maps of size 7x7. Use ReLU activation function and batch norm."
   ]
  },
  {
   "cell_type": "code",
   "execution_count": 9,
   "metadata": {},
   "outputs": [
    {
     "name": "stdout",
     "output_type": "stream",
     "text": [
      "Tensor(\"generator_layer2/Relu:0\", shape=(32, 7, 7, 32), dtype=float32)\n"
     ]
    }
   ],
   "source": [
    "with tf.variable_scope(\"generator_layer2\", reuse=tf.AUTO_REUSE):\n",
    "    x = layer_1\n",
    "    target_shape = [32, 7, 7, 32]\n",
    "    activation_fn = tf.nn.relu\n",
    "    normalize = True\n",
    "    layer_2 = back_conv_layer(x, target_shape, kernel_size, stride_size, activation_fn, normalize)\n",
    "print(layer_2)"
   ]
  },
  {
   "cell_type": "markdown",
   "metadata": {},
   "source": [
    "### Generator Layer 3\n",
    "This layer is a transposed convolutional layer. Layer 3 upsamples to 16 feature maps of size 14x14. Use ReLU activation function and batch norm.\n"
   ]
  },
  {
   "cell_type": "code",
   "execution_count": 10,
   "metadata": {},
   "outputs": [
    {
     "name": "stdout",
     "output_type": "stream",
     "text": [
      "Tensor(\"generator_layer3/Relu:0\", shape=(32, 14, 14, 16), dtype=float32)\n"
     ]
    }
   ],
   "source": [
    "with tf.variable_scope(\"generator_layer3\", reuse=tf.AUTO_REUSE):\n",
    "    x = layer_2\n",
    "    target_shape = (32,14,14,16)\n",
    "    activation_fn = tf.nn.relu\n",
    "    normalize = True\n",
    "    layer_3 = back_conv_layer(x, target_shape, kernel_size, stride_size, activation_fn, normalize)\n",
    "print(layer_3)"
   ]
  },
  {
   "cell_type": "markdown",
   "metadata": {},
   "source": [
    "### Generator Layer 4\n",
    "This layer is the last transposed convolutional layer and will generate the images. It will thus sample up to only one map of size 28x28. Do not use batch norm and use the TanH activation function."
   ]
  },
  {
   "cell_type": "code",
   "execution_count": 11,
   "metadata": {},
   "outputs": [
    {
     "name": "stdout",
     "output_type": "stream",
     "text": [
      "Tensor(\"generator_layer4/Tanh:0\", shape=(32, 28, 28, 1), dtype=float32)\n"
     ]
    }
   ],
   "source": [
    "with tf.variable_scope(\"generator_layer4\", reuse=tf.AUTO_REUSE):\n",
    "    x = layer_3\n",
    "    target_shape = (32,28,28,1)\n",
    "    activation_fn = tf.nn.tanh\n",
    "    normalize = False\n",
    "    generator_layer_4 = back_conv_layer(x, target_shape, kernel_size, stride_size, activation_fn, normalize)\n",
    "    print(generator_layer_4)\n",
    "    #layer_4 = tf.reshape(layer_4, (32,28,28))\n",
    "    #print(layer_4)"
   ]
  },
  {
   "cell_type": "markdown",
   "metadata": {},
   "source": [
    "## Discriminator"
   ]
  },
  {
   "cell_type": "markdown",
   "metadata": {},
   "source": [
    "### Input to Discriminator\n",
    "The discriminator will get the 32 previously generated images together with 32 original images as an input. Use as usual the tf.data API to build a dataset and an iterator that gives you batches of 32 of the original images. Use tf.concat to build one batch of 64 out of the original and the generated images."
   ]
  },
  {
   "cell_type": "code",
   "execution_count": 12,
   "metadata": {},
   "outputs": [],
   "source": [
    "# create the tensorflow dataset\n",
    "dataset = tf.data.Dataset.from_tensor_slices(data)\n",
    "\n",
    "# define the batch size\n",
    "batchsize = 32\n",
    "\n",
    "# split the dataset into batches\n",
    "dataset = dataset.batch(batchsize)\n",
    "\n",
    "# shuffel the data (in each epoch)\n",
    "dataset = dataset.shuffle(buffer_size=4, reshuffle_each_iteration = True)\n",
    "\n",
    "# create an iterator\n",
    "iterator = tf.data.Iterator.from_structure(dataset.output_types, dataset.output_shapes)\n",
    "\n",
    "# name operation that gives next batch\n",
    "next_batch = iterator.get_next()\n",
    "\n",
    "# initializer operations for training and validation dataset\n",
    "initialize_iterator = iterator.make_initializer(dataset)\n"
   ]
  },
  {
   "cell_type": "code",
   "execution_count": 13,
   "metadata": {},
   "outputs": [
    {
     "name": "stdout",
     "output_type": "stream",
     "text": [
      "Tensor(\"concat:0\", shape=(?, 28, 28, 1), dtype=float32)\n"
     ]
    }
   ],
   "source": [
    "#making next batch and output of generator compatible\n",
    "next_batch = tf.cast(next_batch, tf.float32)\n",
    "next_batch = tf.reshape(next_batch,[-1, 28, 28, 1])\n",
    "generator_layer_4 = tf.cast(generator_layer_4, tf.float32)\n",
    "\n",
    "#combining next batch and ouput of generator\n",
    "mixed_batch = tf.concat([generator_layer_4, next_batch], 0)\n",
    "print(mixed_batch)\n",
    "#labels_original = tf.cast(tf.ones(32), tf.int32)\n",
    "#labels_generated = tf.cast(tf.zeros(32), tf.int32)\n",
    "#labels = tf.concat([labels_original, labels_generated], 0)\n",
    "#print(mixed_batch)"
   ]
  },
  {
   "cell_type": "markdown",
   "metadata": {},
   "source": [
    "### Discriminator Layer 1, 2 & 3\n",
    "All three layers are normal convolutional layers with respectively 8, 16 and 32 feature maps. All use ”same”-padding, leaky ReLU activation function and batch normalization."
   ]
  },
  {
   "cell_type": "code",
   "execution_count": 14,
   "metadata": {},
   "outputs": [
    {
     "name": "stdout",
     "output_type": "stream",
     "text": [
      "Tensor(\"concat:0\", shape=(?, 28, 28, 1), dtype=float32)\n"
     ]
    }
   ],
   "source": [
    "with tf.variable_scope(\"discriminator1-3\", reuse=tf.AUTO_REUSE):\n",
    "    activation_fn = tf.nn.leaky_relu\n",
    "    normalize = True\n",
    "    \n",
    "    print((mixed_batch))\n",
    "    with tf.variable_scope(\"discriminator1\", reuse=tf.AUTO_REUSE):\n",
    "        x = tf.reshape(mixed_batch, (64,1,28,28))\n",
    "        kernels_n = 8\n",
    "        disc_layer1 = conv_layer(x, kernels_n, kernel_size, stride_size, activation_fn, normalize)\n",
    "    \n",
    "    with tf.variable_scope(\"discriminator2\", reuse=tf.AUTO_REUSE):\n",
    "        x = disc_layer1\n",
    "        kernels_n = 16\n",
    "        disc_layer2 = conv_layer(x, kernels_n, kernel_size, stride_size, activation_fn, normalize)\n",
    "    \n",
    "    with tf.variable_scope(\"discriminator3\", reuse=tf.AUTO_REUSE):\n",
    "        x = disc_layer2\n",
    "        kernels_n = 32\n",
    "        disc_layer3 = conv_layer(x, kernels_n, kernel_size, stride_size, activation_fn, normalize)\n",
    "    \n",
    "    #print(disc_layer1)\n",
    "    #print(disc_layer2)\n",
    "    #print(disc_layer3)"
   ]
  },
  {
   "cell_type": "markdown",
   "metadata": {},
   "source": [
    "### Discriminator Layer 4\n",
    "The last layer is a fully connected feed forward layer. For that we first need to flatten the feature maps of the last layer. The layer only has one output node as the discriminator only has to distinct between original images (label: 1) and generated images (label: 0). Do not use any activation function but do use batch norm."
   ]
  },
  {
   "cell_type": "code",
   "execution_count": 15,
   "metadata": {},
   "outputs": [
    {
     "name": "stdout",
     "output_type": "stream",
     "text": [
      "Tensor(\"discriminator4/batchnorm/add_1:0\", shape=(64, 1), dtype=float32)\n"
     ]
    }
   ],
   "source": [
    " with tf.variable_scope(\"discriminator4\", reuse=tf.AUTO_REUSE):\n",
    "        x = tf.reshape(disc_layer3,(64,128))\n",
    "        hidden_n = 1\n",
    "        normalize = True\n",
    "        activation_fn = 'linear'\n",
    "        disc_layer4 = feed_forward_layer(x, hidden_n, activation_fn, normalize)\n",
    "print(disc_layer4)"
   ]
  },
  {
   "cell_type": "markdown",
   "metadata": {},
   "source": [
    "## Training\n",
    "The training is a bit trickier as usual as we have to train the generator and the discriminator separately. Both will be optimized with Adam (learning rate = 0.0004, beta1 = 0.5).\n"
   ]
  },
  {
   "cell_type": "markdown",
   "metadata": {},
   "source": [
    "### Training the Generator\n",
    "You need 32 ones as labels (remember the generator wants to fool the discrim- inator). \n",
    "\n",
    "Calculate the loss with tf.nn.sigmoid cross entropy with logits. Pay attention that you feed the correct half of the logits (the logits that corre- spond to the generated images) to the loss function. \n",
    "\n",
    "Take the mean.\n",
    "\n",
    "We only want to train the generator to minimize this loss. Use the following code snippet to get all variables that are part of the generator.\n",
    "\n",
    "trainable variables = tf.trainable variables()\n",
    "\n",
    "generator variables = [var for var in trainable variables if \"generator\" in var.name]\n",
    "\n",
    "This presupposes you use sensible variable scopes for your layers.\n",
    "\n",
    "Now you can initialize an Adam optimizer and instruct it to minimize the loss. \n",
    "\n",
    "The minimize functions has a parameter var list that you can pass the above generated list."
   ]
  },
  {
   "cell_type": "code",
   "execution_count": 16,
   "metadata": {},
   "outputs": [
    {
     "name": "stdout",
     "output_type": "stream",
     "text": [
      "Tensor(\"training_generator/strided_slice:0\", shape=(32, 1), dtype=float32)\n",
      "Tensor(\"training_generator/logistic_loss:0\", shape=(32, 1), dtype=float32)\n",
      "Tensor(\"training_generator/Mean:0\", shape=(), dtype=float32)\n"
     ]
    }
   ],
   "source": [
    "with tf.variable_scope(\"training_generator\", reuse=tf.AUTO_REUSE) as scope:    \n",
    "    logits = disc_layer4[0:32]\n",
    "    #logits = tf.reshape(logits, (32,))\n",
    "    print(logits)\n",
    "    labels = tf.ones((32,1))\n",
    "    cross_entropy = tf.nn.sigmoid_cross_entropy_with_logits(labels = labels, logits = logits)\n",
    "    print(cross_entropy)\n",
    "    generator_loss = tf.reduce_mean(cross_entropy)\n",
    "    print(generator_loss)\n",
    "\n",
    "    trainable_variables = tf.trainable_variables()\n",
    "    generator_variables = [var for var in trainable_variables if \"generator\" in var.name]\n",
    "\n",
    "    #defining the learning rate\n",
    "    learning_rate = 4e-4\n",
    "\n",
    "    #defining the optimizer\n",
    "    optimizer = tf.train.AdamOptimizer(learning_rate=learning_rate, beta1 = 0.5)\n",
    "\n",
    "    #define training step\n",
    "    training_step_generator = optimizer.minimize(generator_loss, var_list = generator_variables)\n"
   ]
  },
  {
   "cell_type": "markdown",
   "metadata": {},
   "source": [
    "### Training the Discriminator\n",
    "Now you need 64 labels (32 ones and 32 zeros). Again make sure that the order matches how you concatenated original and generated images as the input for the discriminator ([original, generated] or [generated, original]). The rest is exactly as above."
   ]
  },
  {
   "cell_type": "code",
   "execution_count": 17,
   "metadata": {},
   "outputs": [
    {
     "name": "stdout",
     "output_type": "stream",
     "text": [
      "Tensor(\"training_discriminator/concat:0\", shape=(64, 1), dtype=float32)\n",
      "Tensor(\"discriminator4/batchnorm/add_1:0\", shape=(64, 1), dtype=float32)\n",
      "Tensor(\"training_discriminator/logistic_loss:0\", shape=(64, 1), dtype=float32)\n",
      "Tensor(\"training_discriminator/Mean:0\", shape=(), dtype=float32)\n"
     ]
    }
   ],
   "source": [
    "with tf.variable_scope(\"training_discriminator\", reuse=tf.AUTO_REUSE) as scope: \n",
    "    labels_original = tf.cast(tf.ones((32,1)), tf.float32)\n",
    "    labels_generated = tf.cast(tf.zeros((32,1)), tf.float32)\n",
    "    labels = tf.concat([labels_original, labels_generated], 0)\n",
    "    print(labels)\n",
    "    logits = disc_layer4\n",
    "    print(logits)\n",
    "    \n",
    "    cross_entropy = tf.nn.sigmoid_cross_entropy_with_logits(labels = labels, logits = logits)\n",
    "    print(cross_entropy)\n",
    "    discriminator_loss = tf.reduce_mean(cross_entropy)\n",
    "    print(discriminator_loss)\n",
    "\n",
    "    trainable_variables = tf.trainable_variables()\n",
    "    generator_variables = [var for var in trainable_variables if \"discriminator\" in var.name]\n",
    "\n",
    "    #defining the learning rate\n",
    "    learning_rate = 4e-4\n",
    "\n",
    "    #defining the optimizer\n",
    "    optimizer = tf.train.AdamOptimizer(learning_rate=learning_rate, beta1 = 0.5)\n",
    "\n",
    "    #define training step\n",
    "    training_step_discriminator = optimizer.minimize(discriminator_loss, var_list = generator_variables)\n",
    "\n"
   ]
  },
  {
   "cell_type": "markdown",
   "metadata": {},
   "source": [
    "### Monitoring\n",
    "Use TensorBoard to visualize the losses and the generated images.\n",
    "\n",
    "discriminator_loss_summary = tf.summary.scalar(\"discriminator-loss\", discriminator loss)\n",
    "\n",
    "loss_summaries = tf.summary.merge([generator loss summary, discriminator loss summary]) \n",
    "\n",
    "generated_images_summary = tf.summary.image(\"generated-images\", generated images, max_outputs = 32)\n",
    "\n",
    "Read out the loss summaries in each training step. The generated images as explained above only each 100th step."
   ]
  },
  {
   "cell_type": "code",
   "execution_count": 18,
   "metadata": {},
   "outputs": [],
   "source": [
    "discriminator_loss_summary = tf.summary.scalar(\"discriminator-loss\", discriminator_loss)\n",
    "generator_loss_summary = tf.summary.scalar(\"generator-loss\", generator_loss)\n",
    "loss_summaries = tf.summary.merge([generator_loss_summary, discriminator_loss_summary])\n",
    "generated_images_summary = tf.summary.image(\"generated-images\", generator_layer_4, max_outputs = 32)\n",
    "#where to write the summaries\n",
    "train_writer = tf.summary.FileWriter('./summaries/train/')"
   ]
  },
  {
   "cell_type": "markdown",
   "metadata": {},
   "source": [
    "## Training and Generating Images"
   ]
  },
  {
   "cell_type": "markdown",
   "metadata": {},
   "source": [
    "Train the model for 2 epochs.\n",
    "In the very beginning of your session once sample 32 random vectors of dimen- sion 50 from a uniform distribution (between -1 and 1). We will use these to visualize our progress in the generation.\n",
    "In each training step sample 32 new random vectors of dimension 50 from the same distribution. These will be fed to the generator for training. This is why they have to be different in each training step.\n",
    "Run the training step (both training steps) while feeding the previously gen- erated vector to the placeholder.\n",
    "After each 100th training step feed in the vector sampled at the beginning and read out the summaries for the generated images (do not train).\n"
   ]
  },
  {
   "cell_type": "code",
   "execution_count": 19,
   "metadata": {},
   "outputs": [
    {
     "name": "stdout",
     "output_type": "stream",
     "text": [
      "tf.distributions.Uniform(\"Uniform/\", batch_shape=(), event_shape=(), dtype=float32)\n"
     ]
    }
   ],
   "source": [
    "#uniform distribution from which we sample in each training step\n",
    "distribution = tf.distributions.Uniform(-1.0,1.0)\n",
    "print(distribution)\n",
    "\n",
    "#defining the epochs\n",
    "epochs = 2\n",
    "\n",
    "#starting Tensorflow session\n",
    "with tf.Session() as sess:\n",
    "    #inizializing variables\n",
    "    sess.run(tf.global_variables_initializer())\n",
    "    #making global step counter\n",
    "    global_step = 0\n",
    "    \n",
    "    #defining the epoch loop (runs through training and validation epoch number of times)\n",
    "    for _ in range(epochs):\n",
    "        #initializing iterator with training data for this epoch\n",
    "        sess.run(initialize_iterator)\n",
    "        \n",
    "        #going through all batches once\n",
    "        while True:\n",
    "            try:\n",
    "                #sampling from uniform distribution\n",
    "                #random_vectors = distribution.sample((32,50))\n",
    "                random_vectors = np.random.uniform(size=(32,50))\n",
    "                if((global_step % 100) == 0):\n",
    "                    summary_images = sess.run([generated_images_summary], feed_dict={vectors : random_vectors})\n",
    "                    train_writer.add_summary(summary_images[0], global_step)\n",
    "                else:\n",
    "                    #running training steps, feeding in random vectors and reading out summary\n",
    "                    summaries, _, _ = sess.run([loss_summaries, training_step_generator, training_step_discriminator], feed_dict={vectors : random_vectors})\n",
    "                    #saving the summary\n",
    "                    train_writer.add_summary(summaries, global_step)\n",
    "\n",
    "                global_step = global_step + 1\n",
    "            except tf.errors.OutOfRangeError:\n",
    "                break"
   ]
  },
  {
   "cell_type": "code",
   "execution_count": null,
   "metadata": {},
   "outputs": [],
   "source": []
  }
 ],
 "metadata": {
  "kernelspec": {
   "display_name": "Python 3",
   "language": "python",
   "name": "python3"
  },
  "language_info": {
   "codemirror_mode": {
    "name": "ipython",
    "version": 3
   },
   "file_extension": ".py",
   "mimetype": "text/x-python",
   "name": "python",
   "nbconvert_exporter": "python",
   "pygments_lexer": "ipython3",
   "version": "3.6.5"
  }
 },
 "nbformat": 4,
 "nbformat_minor": 2
}
