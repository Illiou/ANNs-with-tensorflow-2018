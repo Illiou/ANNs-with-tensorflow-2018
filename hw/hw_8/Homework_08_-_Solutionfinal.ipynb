{
 "cells": [
  {
   "cell_type": "code",
   "execution_count": 1,
   "metadata": {},
   "outputs": [
    {
     "name": "stdout",
     "output_type": "stream",
     "text": [
      "1.10.1\n"
     ]
    }
   ],
   "source": [
    "import numpy as np\n",
    "import tensorflow as tf\n",
    "import struct\n",
    "import matplotlib.pyplot as plt\n",
    "from PIL import Image\n",
    "%matplotlib inline"
   ]
  },
  {
   "cell_type": "code",
   "execution_count": 2,
   "metadata": {},
   "outputs": [
    {
     "name": "stdout",
     "output_type": "stream",
     "text": [
      "(60000, 28, 28, 1)\n"
     ]
    }
   ],
   "source": [
    "def read_idx(filename):\n",
    "    with open(filename, 'rb') as f:\n",
    "        zero, data_type, dims = struct.unpack('>HBB', f.read(4))\n",
    "        shape = tuple(struct.unpack('>I', f.read(4))[0] for d in range(dims))\n",
    "        return np.frombuffer(f.read(), dtype=np.uint8).reshape(shape)\n",
    "    \n",
    "training_data = read_idx('./MNIST/train-images-idx3-ubyte')\n",
    "training_labels = read_idx('./MNIST/train-labels-idx1-ubyte')\n",
    "\n",
    "# Normalize the training data.\n",
    "training_data = np.expand_dims(training_data, 3)\n",
    "print(training_data.shape)\n",
    "normalized_training_data = (training_data / 255) * 2 - 1\n"
   ]
  },
  {
   "cell_type": "code",
   "execution_count": 3,
   "metadata": {},
   "outputs": [
    {
     "data": {
      "image/png": "[encoded data removed]",
      "text/plain": [
       "<Figure size 720x720 with 10 Axes>"
      ]
     },
     "metadata": {
      "needs_background": "light"
     },
     "output_type": "display_data"
    }
   ],
   "source": [
    "fig, ax = plt.subplots(1,10,figsize=(10,10))\n",
    "for i in range(10):\n",
    "    ax[i].imshow(training_data[i,:,:,0])\n",
    "    ax[i].axis('off')\n",
    "    ax[i].set_title(training_labels[i])"
   ]
  },
  {
   "cell_type": "code",
   "execution_count": 4,
   "metadata": {},
   "outputs": [],
   "source": [
    "# Define the hyperparameters of the model.\n",
    "\n",
    "# We will train with batches of 64. Consisting out of 32 true images and 32 generated.\n",
    "generated_images_n = 32\n",
    "real_images_n = 32\n",
    "\n",
    "# The random noise vector will have dimension 50.\n",
    "z_dim = 50\n",
    "\n"
   ]
  },
  {
   "cell_type": "code",
   "execution_count": 5,
   "metadata": {},
   "outputs": [],
   "source": [
    "tf.reset_default_graph()\n",
    "\n",
    "# Create the dataset.\n",
    "training_dataset = tf.data.Dataset.from_tensor_slices((normalized_training_data, training_labels))\n",
    "\n",
    "\n",
    "# Shuffle the training data in each iteration.\n",
    "training_dataset = training_dataset.shuffle(buffer_size = 60000)\n",
    "\n",
    "# Specify the batch sizes.\n",
    "training_dataset = training_dataset.batch(real_images_n, drop_remainder=True)\n",
    "\n"
   ]
  },
  {
   "cell_type": "code",
   "execution_count": 6,
   "metadata": {},
   "outputs": [],
   "source": [
    "# Create the iterator.\n",
    "iterator = tf.data.Iterator.from_structure(training_dataset.output_types,\n",
    "                                           training_dataset.output_shapes)\n",
    "\n",
    "# Name the operation that will give the next batch and name the \n",
    "# initialization operations.\n",
    "next_batch = iterator.get_next()\n",
    "training_init_op = iterator.make_initializer(training_dataset)"
   ]
  },
  {
   "cell_type": "code",
   "execution_count": 7,
   "metadata": {},
   "outputs": [],
   "source": [
    "# We will define functions for the layers so our code is not redundant.\n",
    "\n",
    "def feed_forward_layer(x, hidden_n, activation_fn, normalize):        \n",
    "    initializer = tf.random_normal_initializer(stddev=0.02)\n",
    "\n",
    "    weights = tf.get_variable(\"weights\", [x.shape[1], hidden_n], tf.float32, initializer)\n",
    "    biases = tf.get_variable(\"biases\", [hidden_n], tf.float32, tf.zeros_initializer())\n",
    "    \n",
    "    drive = tf.matmul(x, weights) + biases\n",
    "    \n",
    "    if normalize:\n",
    "        drive = batch_norm(drive, [0])\n",
    "    \n",
    "    if activation_fn == 'linear':\n",
    "        return drive\n",
    "    else:\n",
    "        return activation_fn(drive)\n",
    "\n",
    "\n",
    "\n",
    "def conv_layer(x, kernels_n, kernel_size, stride_size, activation_fn, normalize):\n",
    "    initializer = tf.random_normal_initializer(stddev=0.02)\n",
    "    \n",
    "    kernels = tf.get_variable(\"kernels\", [kernel_size, kernel_size, x.shape[-1], kernels_n], tf.float32, initializer)\n",
    "    biases = tf.get_variable(\"biases\", [kernels_n], tf.float32, tf.zeros_initializer())\n",
    "\n",
    "    drive = tf.nn.conv2d(x, kernels, strides = [1, stride_size, stride_size, 1], padding = \"SAME\") + biases\n",
    "    \n",
    "    if normalize:\n",
    "        drive = batch_norm(drive, [0,1,2])\n",
    "    \n",
    "    return activation_fn(drive)\n",
    "\n",
    "\n",
    "\n",
    "\n",
    "def back_conv_layer(x, target_shape, kernel_size, stride_size, activation_fn, normalize):\n",
    "    initializer = tf.random_normal_initializer(stddev=0.02)\n",
    "    \n",
    "    kernels = tf.get_variable(\"kernels\", [kernel_size, kernel_size, target_shape[-1], x.shape[-1]], tf.float32, initializer)\n",
    "    biases = tf.get_variable(\"biases\", [target_shape[-1]], tf.float32, tf.zeros_initializer())\n",
    "\n",
    "    drive = tf.nn.conv2d_transpose(x, kernels, target_shape, strides = [1, stride_size, stride_size, 1], padding = \"SAME\") + biases\n",
    "    \n",
    "    if normalize:\n",
    "        drive = batch_norm(drive, [0,1,2])\n",
    "    \n",
    "    return activation_fn(drive)\n",
    "\n",
    "\n",
    "def flatten(x):\n",
    "    size = int(np.prod(x.shape[1:]))\n",
    "    return tf.reshape(x, [-1, size])\n",
    "\n",
    "\n",
    "def batch_norm(x, axes):\n",
    "    mean, var = tf.nn.moments(x, axes = axes)\n",
    "    \n",
    "    offset_initializer = tf.constant_initializer(0.0)\n",
    "    offset = tf.get_variable(\"offset\", [x.shape[-1]], tf.float32, offset_initializer)\n",
    "    scale_initializer = tf.constant_initializer(1.0)\n",
    "    scale = tf.get_variable(\"scale\", [x.shape[-1]], tf.float32, scale_initializer)\n",
    "    \n",
    "    return tf.nn.batch_normalization(x, mean, var, offset, scale, 1e-6)\n",
    "\n",
    "   "
   ]
  },
  {
   "cell_type": "code",
   "execution_count": 8,
   "metadata": {},
   "outputs": [],
   "source": [
    "# First create the generator network.\n",
    "z = tf.placeholder(tf.float32, [generated_images_n, z_dim])\n",
    "\n",
    "# generator network\n",
    "with tf.variable_scope(\"generator_layer_1\", reuse=tf.AUTO_REUSE):\n",
    "    gen_layer_1 = feed_forward_layer(z, 1024, tf.nn.relu, True)\n",
    "    gen_layer_1 = tf.reshape(gen_layer_1, [generated_images_n, 4, 4, 64])\n",
    "    \n",
    "    \n",
    "with tf.variable_scope(\"generator_layer_2\", reuse=tf.AUTO_REUSE):\n",
    "    gen_layer_2 = back_conv_layer(gen_layer_1, [generated_images_n, 7, 7, 32], 5, 2, tf.nn.relu, True)\n",
    "    \n",
    "with tf.variable_scope(\"generator_layer_3\", reuse=tf.AUTO_REUSE):\n",
    "    gen_layer_3 = back_conv_layer(gen_layer_2, [generated_images_n, 14, 14, 16], 5, 2, tf.nn.relu, True)    \n",
    "    \n",
    "with tf.variable_scope(\"generator_layer_4\", reuse=tf.AUTO_REUSE):\n",
    "    generated_images = back_conv_layer(gen_layer_3, [generated_images_n, 28, 28, 1], 5, 2, tf.nn.tanh, False)\n",
    "\n",
    " # get real images and concatenate real with generated   \n",
    "real_images = tf.cast(next_batch[0], dtype=tf.float32)\n",
    "real_and_generated_images = tf.concat([real_images, generated_images],0)\n",
    "\n",
    "\n",
    "\n",
    "with tf.variable_scope(\"discriminator_layer_1\", reuse=tf.AUTO_REUSE):\n",
    "    dis_layer_1 = conv_layer(real_and_generated_images, 8, 5, 2, tf.nn.leaky_relu, True)\n",
    "    \n",
    "with tf.variable_scope(\"discriminator_layer_2\", reuse=tf.AUTO_REUSE):\n",
    "    dis_layer_2 = conv_layer(dis_layer_1, 16, 5, 2, tf.nn.leaky_relu, True)\n",
    "    \n",
    "with tf.variable_scope(\"discriminator_layer_3\", reuse=tf.AUTO_REUSE):\n",
    "    dis_layer_3 = conv_layer(dis_layer_2, 32, 5, 2, tf.nn.leaky_relu, True)\n",
    "    \n",
    "with tf.variable_scope(\"discriminator_layer_4\", reuse=tf.AUTO_REUSE):\n",
    "    flat = flatten(dis_layer_3)\n",
    "    logits = feed_forward_layer(flat, 1, \"linear\", True)\n",
    "    "
   ]
  },
  {
   "cell_type": "code",
   "execution_count": 1,
   "metadata": {},
   "outputs": [
    {
     "ename": "NameError",
     "evalue": "name 'tf' is not defined",
     "output_type": "error",
     "traceback": [
      "\u001b[0;31m---------------------------------------------------------------------------\u001b[0m",
      "\u001b[0;31mNameError\u001b[0m                                 Traceback (most recent call last)",
      "\u001b[0;32m<ipython-input-1-d3b04c1d42cd>\u001b[0m in \u001b[0;36m<module>\u001b[0;34m()\u001b[0m\n\u001b[1;32m      2\u001b[0m \u001b[0;34m\u001b[0m\u001b[0m\n\u001b[1;32m      3\u001b[0m \u001b[0;31m# discriminator loss\u001b[0m\u001b[0;34m\u001b[0m\u001b[0;34m\u001b[0m\u001b[0m\n\u001b[0;32m----> 4\u001b[0;31m \u001b[0;32mwith\u001b[0m \u001b[0mtf\u001b[0m\u001b[0;34m.\u001b[0m\u001b[0mvariable_scope\u001b[0m\u001b[0;34m(\u001b[0m\u001b[0;34m\"dis_loss\"\u001b[0m\u001b[0;34m)\u001b[0m\u001b[0;34m:\u001b[0m\u001b[0;34m\u001b[0m\u001b[0m\n\u001b[0m\u001b[1;32m      5\u001b[0m     \u001b[0mdis_labels\u001b[0m \u001b[0;34m=\u001b[0m \u001b[0mtf\u001b[0m\u001b[0;34m.\u001b[0m\u001b[0mconcat\u001b[0m\u001b[0;34m(\u001b[0m\u001b[0;34m[\u001b[0m\u001b[0mtf\u001b[0m\u001b[0;34m.\u001b[0m\u001b[0mones\u001b[0m\u001b[0;34m(\u001b[0m\u001b[0;34m[\u001b[0m\u001b[0mgenerated_images_n\u001b[0m\u001b[0;34m,\u001b[0m\u001b[0;36m1\u001b[0m\u001b[0;34m]\u001b[0m\u001b[0;34m)\u001b[0m\u001b[0;34m,\u001b[0m \u001b[0mtf\u001b[0m\u001b[0;34m.\u001b[0m\u001b[0mzeros\u001b[0m\u001b[0;34m(\u001b[0m\u001b[0;34m[\u001b[0m\u001b[0mreal_images_n\u001b[0m\u001b[0;34m,\u001b[0m\u001b[0;36m1\u001b[0m\u001b[0;34m]\u001b[0m\u001b[0;34m)\u001b[0m\u001b[0;34m]\u001b[0m\u001b[0;34m,\u001b[0m \u001b[0maxis\u001b[0m\u001b[0;34m=\u001b[0m\u001b[0;36m0\u001b[0m\u001b[0;34m)\u001b[0m\u001b[0;34m\u001b[0m\u001b[0m\n\u001b[1;32m      6\u001b[0m     \u001b[0mdis_cross_entropy\u001b[0m \u001b[0;34m=\u001b[0m \u001b[0mtf\u001b[0m\u001b[0;34m.\u001b[0m\u001b[0mnn\u001b[0m\u001b[0;34m.\u001b[0m\u001b[0msigmoid_cross_entropy_with_logits\u001b[0m\u001b[0;34m(\u001b[0m\u001b[0mlogits\u001b[0m\u001b[0;34m=\u001b[0m\u001b[0mlogits\u001b[0m\u001b[0;34m,\u001b[0m \u001b[0mlabels\u001b[0m\u001b[0;34m=\u001b[0m\u001b[0mdis_labels\u001b[0m\u001b[0;34m)\u001b[0m\u001b[0;34m\u001b[0m\u001b[0m\n",
      "\u001b[0;31mNameError\u001b[0m: name 'tf' is not defined"
     ]
    }
   ],
   "source": [
    "# we apply two losses one to the discriminator one to the generator\n",
    "\n",
    "# discriminator loss\n",
    "with tf.variable_scope(\"dis_loss\"):\n",
    "    dis_labels = tf.concat([tf.ones([generated_images_n,1]), tf.zeros([real_images_n,1])], axis=0)\n",
    "    dis_cross_entropy = tf.nn.sigmoid_cross_entropy_with_logits(logits=logits, labels=dis_labels)\n",
    "    dis_loss = tf.reduce_mean(dis_cross_entropy)\n",
    "    \n",
    "# generator loss  \n",
    "with tf.variable_scope(\"gen_loss\"):\n",
    "    gen_labels = tf.ones([generated_images_n,1])\n",
    "    gen_cross_entropy = tf.nn.sigmoid_cross_entropy_with_logits(logits=logits[generated_images_n:], labels=gen_labels)\n",
    "    gen_loss = tf.reduce_mean(gen_cross_entropy)\n",
    "    \n",
    "# get the generator and discriminator variables\n",
    "with tf.variable_scope(\"variables\"):\n",
    "    trainable_variables = tf.trainable_variables()\n",
    "    dis_variables = [var for var in trainable_variables if \"discriminator\" in var.name]\n",
    "    gen_variables = [var for var in trainable_variables if \"generator\" in var.name]\n",
    "\n",
    "    \n",
    "\n",
    "with tf.variable_scope(\"optimizer\", reuse=tf.AUTO_REUSE):\n",
    "    learning_rate = 0.0004\n",
    "    beta1 = 0.5\n",
    "    dis_optimizer = tf.train.AdamOptimizer(learning_rate, beta1 = beta1)\n",
    "    gen_optimizer = tf.train.AdamOptimizer(learning_rate, beta1 = beta1)\n",
    "\n",
    "    dis_training_step = dis_optimizer.minimize(dis_loss, var_list = dis_variables)\n",
    "    gen_training_step = gen_optimizer.minimize(gen_loss, var_list = gen_variables)    \n",
    "\n",
    "    \n",
    "tf.summary.scalar(\"dis_loss\", dis_loss)\n",
    "tf.summary.scalar(\"gen_loss\", gen_loss)\n",
    "merged_summaries = tf.summary.merge_all()\n",
    "writer = tf.summary.FileWriter(\"./summaries/\")\n"
   ]
  },
  {
   "cell_type": "code",
   "execution_count": 10,
   "metadata": {
    "scrolled": false
   },
   "outputs": [],
   "source": [
    "with tf.Session() as sess:\n",
    "    sess.run(tf.global_variables_initializer())\n",
    "    global_step = 0\n",
    "    test_z = np.random.uniform(-1,1,[generated_images_n, z_dim]) \n",
    "\n",
    "    \n",
    "    for _ in range(2):\n",
    "        sess.run(training_init_op)\n",
    "        while True:\n",
    "            try:\n",
    "                z_values = np.random.uniform(-1,1,[generated_images_n, z_dim]) \n",
    "                summaries, _, _, = sess.run((merged_summaries,\n",
    "                                                 dis_training_step,\n",
    "                                                 gen_training_step),\n",
    "                                                 feed_dict={\n",
    "                                                     z: z_values                                                      \n",
    "\n",
    "                                                 })\n",
    "                \n",
    "                \n",
    "                test_images = sess.run((generated_images), feed_dict={z:test_z})\n",
    "                if global_step % 100 == 0:\n",
    "                    for i in range(generated_images_n):\n",
    "                        test_generated = test_images[i,:,:,0]\n",
    "                        test_generated = np.floor((test_generated + 1) * 0.5 * 255)\n",
    "                        im = Image.fromarray(test_generated)\n",
    "                        im = im.convert(\"L\")\n",
    "                        im.save(\"./images/{}_{}.png\".format(global_step,i))\n",
    "                writer.add_summary(summaries, global_step = global_step)\n",
    "                global_step += 1\n",
    "            except tf.errors.OutOfRangeError:\n",
    "                break"
   ]
  },
  {
   "cell_type": "code",
   "execution_count": null,
   "metadata": {},
   "outputs": [],
   "source": []
  }
 ],
 "metadata": {
  "kernelspec": {
   "display_name": "Python 3",
   "language": "python",
   "name": "python3"
  },
  "language_info": {
   "codemirror_mode": {
    "name": "ipython",
    "version": 3
   },
   "file_extension": ".py",
   "mimetype": "text/x-python",
   "name": "python",
   "nbconvert_exporter": "python",
   "pygments_lexer": "ipython3",
   "version": "3.6.4"
  }
 },
 "nbformat": 4,
 "nbformat_minor": 2
}
