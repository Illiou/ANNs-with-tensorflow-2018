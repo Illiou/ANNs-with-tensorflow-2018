{
 "cells": [
  {
   "cell_type": "code",
   "execution_count": 46,
   "metadata": {},
   "outputs": [],
   "source": [
    "# 1.2 Import modules.\n",
    "import numpy as np\n",
    "import tensorflow as tf\n",
    "import struct\n",
    "import matplotlib.pyplot as plt"
   ]
  },
  {
   "cell_type": "code",
   "execution_count": 47,
   "metadata": {},
   "outputs": [],
   "source": [
    "# 1.3 Read in the data set\n",
    "def read_idx(filename):\n",
    "    with open(filename, 'rb') as f:\n",
    "        zero, data_type, dims = struct.unpack('>HBB', f.read(4))\n",
    "        shape = tuple(struct.unpack('>I', f.read(4))[0] for d in range(dims))\n",
    "        return np.frombuffer(f.read(), dtype=np.uint8).reshape(shape)\n",
    "    \n",
    "training_data = read_idx('./MNIST/train-images-idx3-ubyte')\n",
    "training_labels = read_idx('./MNIST/train-labels-idx1-ubyte')\n",
    "validation_data = read_idx('./MNIST/t10k-images-idx3-ubyte')\n",
    "validation_labels = read_idx('./MNIST/t10k-labels-idx1-ubyte')"
   ]
  },
  {
   "cell_type": "code",
   "execution_count": 48,
   "metadata": {},
   "outputs": [
    {
     "data": {
      "image/png": "[encoded data removed]",
      "text/plain": [
       "<Figure size 720x720 with 10 Axes>"
      ]
     },
     "metadata": {
      "needs_background": "light"
     },
     "output_type": "display_data"
    }
   ],
   "source": [
    "# 1.4 Investigate the data.\n",
    "fig, ax = plt.subplots(1,10,figsize=(10,10))\n",
    "for i in range(10):\n",
    "    ax[i].imshow(training_data[i])\n",
    "    ax[i].axis('off')\n",
    "    ax[i].set_title(training_labels[i])"
   ]
  },
  {
   "cell_type": "code",
   "execution_count": 49,
   "metadata": {},
   "outputs": [],
   "source": [
    "# 1.5\n",
    "tf.reset_default_graph()\n",
    "\n",
    "# Create the dataset.\n",
    "training_dataset = tf.data.Dataset.from_tensor_slices((training_data, training_labels))\n",
    "validation_dataset = tf.data.Dataset.from_tensor_slices((validation_data, validation_labels))\n",
    "\n",
    "# Specify the batch sizes.\n",
    "training_batch_size = 128\n",
    "validation_batch_size = 10000\n",
    "training_dataset = training_dataset.batch(training_batch_size)\n",
    "validation_dataset = validation_dataset.batch(validation_batch_size)\n",
    "\n",
    "# Shuffle the training data in each iteration.\n",
    "training_dataset = training_dataset.shuffle(buffer_size = 60000)"
   ]
  },
  {
   "cell_type": "code",
   "execution_count": 50,
   "metadata": {},
   "outputs": [],
   "source": [
    "# 1.6\n",
    "# Create the iterator.\n",
    "iterator = tf.data.Iterator.from_structure(training_dataset.output_types,\n",
    "                                           training_dataset.output_shapes)\n",
    "\n",
    "# Name the operation that will give the next batch and name the \n",
    "# initialization operations.\n",
    "next_batch = iterator.get_next()\n",
    "training_init_op = iterator.make_initializer(training_dataset)\n",
    "validation_init_op = iterator.make_initializer(validation_dataset)"
   ]
  },
  {
   "cell_type": "code",
   "execution_count": 51,
   "metadata": {},
   "outputs": [],
   "source": [
    "# 2.1\n",
    "# Read out input data and label from the next batch\n",
    "input_data  = next_batch[0]\n",
    "labels = next_batch[1]\n",
    "\n",
    "# Reshape and cast input data.\n",
    "input_data = tf.reshape(input_data,shape=[-1,784])\n",
    "input_data = tf.cast(input_data, tf.float32)\n",
    "\n",
    "# One-hot and cast labels.\n",
    "labels = tf.cast(labels, tf.int64)\n",
    "labels_onehot = tf.one_hot(labels, depth=10)"
   ]
  },
  {
   "cell_type": "code",
   "execution_count": 52,
   "metadata": {},
   "outputs": [],
   "source": [
    "# 2.2 \n",
    "# Define the variables, i.e. weights and biases.\n",
    "weights= tf.Variable(tf.random_normal([784, 10], stddev = 0.000002))\n",
    "biases = tf.Variable(tf.zeros([10]))\n",
    "\n",
    "# Define the logits and the output.\n",
    "logits = tf.matmul(input_data, weights) + biases\n",
    "output = tf.nn.softmax(logits)"
   ]
  },
  {
   "cell_type": "code",
   "execution_count": 53,
   "metadata": {},
   "outputs": [],
   "source": [
    "# 2.3\n",
    "# Define the loss.\n",
    "cross_entropy = tf.nn.softmax_cross_entropy_with_logits_v2(labels=labels_onehot, logits=logits )\n",
    "loss = tf.reduce_mean(cross_entropy)\n",
    "\n",
    "# Define the accuracy.\n",
    "accuracy = tf.equal(tf.argmax(output, 1), labels)\n",
    "accuracy = tf.reduce_mean(tf.cast(accuracy, tf.float32))"
   ]
  },
  {
   "cell_type": "code",
   "execution_count": 54,
   "metadata": {},
   "outputs": [],
   "source": [
    "# 2.4\n",
    "# Define the learning rate and the optimizer.\n",
    "learning_rate = 1e-5\n",
    "optimizer = tf.train.GradientDescentOptimizer(learning_rate)\n",
    "\n",
    "# Specify the training step.\n",
    "training_step = optimizer.minimize(loss)"
   ]
  },
  {
   "cell_type": "code",
   "execution_count": 55,
   "metadata": {},
   "outputs": [],
   "source": [
    "# 2.5\n",
    "# Define the summaries.\n",
    "tf.summary.scalar('loss', loss)\n",
    "tf.summary.scalar('accuracy', accuracy)\n",
    "\n",
    "# Merge summaries.\n",
    "merged_summaries = tf.summary.merge_all()\n",
    "\n",
    "# Instantiate File Writer.\n",
    "train_writer = tf.summary.FileWriter('./summaries/train/')\n",
    "validation_writer = tf.summary.FileWriter('./summaries/validation/', flush_secs=2)"
   ]
  },
  {
   "cell_type": "code",
   "execution_count": 56,
   "metadata": {},
   "outputs": [],
   "source": [
    "# 3.1 \n",
    "epochs = 4\n",
    "with tf.Session() as sess:\n",
    "    \n",
    "    sess.run(tf.global_variables_initializer())\n",
    "    global_step = 0 \n",
    "    \n",
    "    # 3.2\n",
    "    for _ in range(epochs):\n",
    "        \n",
    "        \n",
    "        # 3.3\n",
    "        # Initialize the iterator with the training data.\n",
    "        sess.run(training_init_op)\n",
    "        # Go through all batches.\n",
    "        while True:\n",
    "            try:\n",
    "                # Train and read out summaries.\n",
    "                _, summaries = sess.run((training_step, merged_summaries))\n",
    "                # Save summaries.\n",
    "                train_writer.add_summary(summaries, global_step)\n",
    "                # Increment global step counter.\n",
    "                global_step += 1\n",
    "            except tf.errors.OutOfRangeError:\n",
    "                break\n",
    "             \n",
    "            \n",
    "        # 3.4\n",
    "        # Initialize the iterator with the validation data.\n",
    "        sess.run(validation_init_op)\n",
    "        # Read out and save the summaries.\n",
    "        summaries = sess.run((merged_summaries))\n",
    "        validation_writer.add_summary(summaries, global_step)\n",
    "                    \n",
    "        \n"
   ]
  },
  {
   "cell_type": "code",
   "execution_count": null,
   "metadata": {},
   "outputs": [],
   "source": [
    "\n",
    "           "
   ]
  },
  {
   "cell_type": "code",
   "execution_count": null,
   "metadata": {},
   "outputs": [],
   "source": []
  }
 ],
 "metadata": {
  "kernelspec": {
   "display_name": "Python 3",
   "language": "python",
   "name": "python3"
  },
  "language_info": {
   "codemirror_mode": {
    "name": "ipython",
    "version": 3
   },
   "file_extension": ".py",
   "mimetype": "text/x-python",
   "name": "python",
   "nbconvert_exporter": "python",
   "pygments_lexer": "ipython3",
   "version": "3.6.6"
  }
 },
 "nbformat": 4,
 "nbformat_minor": 2
}
