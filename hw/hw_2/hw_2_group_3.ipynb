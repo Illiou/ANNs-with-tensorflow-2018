{
 "cells": [
  {
   "cell_type": "code",
   "execution_count": 1,
   "metadata": {},
   "outputs": [],
   "source": [
    "import numpy as np\n",
    "import tensorflow as tf\n",
    "import struct\n",
    "import matplotlib.pyplot as plt"
   ]
  },
  {
   "cell_type": "markdown",
   "metadata": {},
   "source": [
    "#### Function to read idx files:"
   ]
  },
  {
   "cell_type": "code",
   "execution_count": 2,
   "metadata": {},
   "outputs": [],
   "source": [
    "def read_idx(filename):\n",
    "    with open(filename, 'rb') as f:\n",
    "        zero, data_type, dims = struct.unpack('>HBB', f.read(4))\n",
    "        shape = tuple(struct.unpack('>I', f.read(4))[0] for d in range(dims))\n",
    "        return np.frombuffer(f.read(), dtype=np.uint8).reshape(shape)"
   ]
  },
  {
   "cell_type": "markdown",
   "metadata": {},
   "source": [
    "#### Read the training/validation datasets:"
   ]
  },
  {
   "cell_type": "code",
   "execution_count": 3,
   "metadata": {},
   "outputs": [],
   "source": [
    "training_data = read_idx('./MNIST/train-images.idx3-ubyte')\n",
    "training_labels = read_idx('./MNIST/train-labels.idx1-ubyte')\n",
    "validation_data = read_idx('./MNIST/t10k-images.idx3-ubyte')\n",
    "validation_labels = read_idx('./MNIST/t10k-labels.idx1-ubyte')"
   ]
  },
  {
   "cell_type": "markdown",
   "metadata": {},
   "source": [
    "#### Show some data"
   ]
  },
  {
   "cell_type": "code",
   "execution_count": 4,
   "metadata": {},
   "outputs": [
    {
     "data": {
      "image/png": "[encoded data removed]",
      "text/plain": [
       "<Figure size 720x720 with 10 Axes>"
      ]
     },
     "metadata": {
      "needs_background": "light"
     },
     "output_type": "display_data"
    }
   ],
   "source": [
    "fig, ax = plt.subplots(1,10,figsize=(10,10))\n",
    "for i in range(10): \n",
    "    ax[i].imshow(training_data[i])\n"
   ]
  },
  {
   "cell_type": "markdown",
   "metadata": {},
   "source": [
    "### Create the tf-Dataset"
   ]
  },
  {
   "cell_type": "code",
   "execution_count": 5,
   "metadata": {},
   "outputs": [],
   "source": [
    "tf.reset_default_graph()"
   ]
  },
  {
   "cell_type": "code",
   "execution_count": 6,
   "metadata": {},
   "outputs": [],
   "source": [
    "training_dataset = tf.data.Dataset.from_tensor_slices((training_data, training_labels))\n",
    "validation_dataset = tf.data.Dataset.from_tensor_slices((validation_data, validation_labels))"
   ]
  },
  {
   "cell_type": "code",
   "execution_count": 7,
   "metadata": {},
   "outputs": [],
   "source": [
    "# use fixed batch size of 128 for training\n",
    "training_batch_size = 128\n",
    "\n",
    "# always use complete validation dataset\n",
    "validation_batch_size = 10000\n",
    "\n",
    "training_dataset = training_dataset.batch(training_batch_size)\n",
    "validation_dataset = validation_dataset.batch(validation_batch_size)\n",
    "\n",
    "# shuffle dataset so we always train in a drifferent order\n",
    "training_dataset = training_dataset.shuffle(buffer_size=4, reshuffle_each_iteration=True)"
   ]
  },
  {
   "cell_type": "markdown",
   "metadata": {},
   "source": [
    "### Iterator"
   ]
  },
  {
   "cell_type": "code",
   "execution_count": 8,
   "metadata": {},
   "outputs": [],
   "source": [
    "iterator = tf.data.Iterator.from_structure(training_dataset.output_types,\n",
    "                                           training_dataset.output_shapes)\n",
    "next_batch = iterator.get_next()\n",
    "training_init_op = iterator.make_initializer(training_dataset)\n",
    "validation_init_op = iterator.make_initializer(validation_dataset)"
   ]
  },
  {
   "cell_type": "markdown",
   "metadata": {},
   "source": [
    "### Model"
   ]
  },
  {
   "cell_type": "code",
   "execution_count": 9,
   "metadata": {},
   "outputs": [],
   "source": [
    "input_data = next_batch[0]\n",
    "labels = next_batch[1]\n",
    "\n",
    "input_data = tf.reshape(input_data,shape=[-1,784])\n",
    "input_data=tf.cast(input_data,tf.float32)\n",
    "one_hot_lalbels = tf.one_hot(labels,10)\n",
    "\n"
   ]
  },
  {
   "cell_type": "markdown",
   "metadata": {},
   "source": [
    "### Forward step"
   ]
  },
  {
   "cell_type": "code",
   "execution_count": 10,
   "metadata": {},
   "outputs": [],
   "source": [
    "weights = tf.Variable(tf.random_normal( shape=[28 * 28, 10], stddev=2e-06))\n",
    "biases = tf.Variable(tf.zeros(shape=[10]))\n",
    "drive = input_data @ weights\n",
    "drive = drive + biases\n",
    "output = tf.nn.softmax(drive)"
   ]
  },
  {
   "cell_type": "markdown",
   "metadata": {},
   "source": [
    "### Metrics"
   ]
  },
  {
   "cell_type": "code",
   "execution_count": 11,
   "metadata": {},
   "outputs": [],
   "source": [
    "cross_entropy = tf.nn.softmax_cross_entropy_with_logits_v2(logits=drive, labels=one_hot_lalbels)\n",
    "loss = tf.reduce_mean(cross_entropy)\n",
    "correct_prediction = tf.equal(tf.argmax(output, axis=1), tf.cast(labels,tf.int64) )\n",
    "accuracy           = tf.reduce_mean(tf.cast(correct_prediction, tf.float32))"
   ]
  },
  {
   "cell_type": "markdown",
   "metadata": {},
   "source": [
    "### Optimizer"
   ]
  },
  {
   "cell_type": "code",
   "execution_count": 12,
   "metadata": {},
   "outputs": [],
   "source": [
    "optimizer          = tf.train.AdamOptimizer(learning_rate = 1e-5,)\n",
    "training_step      = optimizer.minimize(loss)"
   ]
  },
  {
   "cell_type": "markdown",
   "metadata": {},
   "source": [
    "### Summaries"
   ]
  },
  {
   "cell_type": "code",
   "execution_count": 13,
   "metadata": {},
   "outputs": [],
   "source": [
    "tf.summary.scalar('loss', loss)\n",
    "tf.summary.scalar('acc', accuracy)\n",
    "merged_summaries = tf.summary.merge_all()\n",
    "# use small flush_secs to make sure data is saved\n",
    "train_writer = tf.summary.FileWriter('./summaries/train/',flush_secs=2)\n",
    "validation_writer = tf.summary.FileWriter('./summaries/validation/',flush_secs=0.1)\n"
   ]
  },
  {
   "cell_type": "markdown",
   "metadata": {},
   "source": [
    "### Training"
   ]
  },
  {
   "cell_type": "code",
   "execution_count": 14,
   "metadata": {},
   "outputs": [
    {
     "name": "stdout",
     "output_type": "stream",
     "text": [
      "saving checkpoint for epoch 0 with acc.: 0.9110000133514404 at: ./best_data-mnist.ckpt\n",
      "saving checkpoint for epoch 1 with acc.: 0.9182000160217285 at: ./best_data-mnist.ckpt\n",
      "saving checkpoint for epoch 2 with acc.: 0.9217000007629395 at: ./best_data-mnist.ckpt\n",
      "saving checkpoint for epoch 3 with acc.: 0.9239000082015991 at: ./best_data-mnist.ckpt\n",
      "saving checkpoint for epoch 4 with acc.: 0.9240000247955322 at: ./best_data-mnist.ckpt\n"
     ]
    }
   ],
   "source": [
    "epochs = 5\n",
    "\n",
    "saver = tf.train.Saver()\n",
    "\n",
    "with tf.Session() as sess:\n",
    "    sess.run(tf.global_variables_initializer())\n",
    "    global_step = 0\n",
    "    best_acc = 0\n",
    "    for ep in range(epochs):\n",
    "        # TRAINING\n",
    "        # Load the training data into the iterator.\n",
    "        sess.run(training_init_op)\n",
    "        # In each epoch we want to go through all batches of the training data. \n",
    "        #print('epoch: ' + str(ep))\n",
    "        while True:\n",
    "            try:\n",
    "                # read out the summary.\n",
    "                _, summary  = sess.run((training_step, merged_summaries))\n",
    "                # We write the summary into our folder.\n",
    "                train_writer.add_summary(summary, global_step)\n",
    "                # Update the step counter.\n",
    "                global_step += 1\n",
    "\n",
    "            # Breakout of the loop if we looked at all batches\n",
    "            except tf.errors.OutOfRangeError:\n",
    "                break\n",
    "        \n",
    "        #Validate with current training progress\n",
    "        sess.run(validation_init_op)\n",
    "        result = sess.run([merged_summaries, accuracy])\n",
    "        summary = result[0]\n",
    "        acc = result[1]\n",
    "        \n",
    "        # save best data\n",
    "        if acc > best_acc:\n",
    "            save_path = \"./best_data-mnist.ckpt\"\n",
    "            best_acc = acc\n",
    "            saver.save(sess, save_path)\n",
    "            print('saving checkpoint for epoch {} with acc.: {} at: {}'.format(ep,acc, save_path))\n",
    " \n",
    "        validation_writer.add_summary(summary, global_step)\n",
    "\n"
   ]
  },
  {
   "cell_type": "markdown",
   "metadata": {},
   "source": [
    "### Load checkpoint and test a image"
   ]
  },
  {
   "cell_type": "code",
   "execution_count": 15,
   "metadata": {},
   "outputs": [
    {
     "name": "stdout",
     "output_type": "stream",
     "text": [
      "INFO:tensorflow:Restoring parameters from ./best_data-mnist.ckpt\n",
      "original label: 6 , prediction: 6 \n"
     ]
    }
   ],
   "source": [
    "image_id = 50\n",
    "your_image = validation_data[image_id]\n",
    "your_image=np.reshape(your_image,(784))\n",
    "loader = tf.train.Saver()\n",
    "\n",
    "with tf.Session() as sess:\n",
    "    loader.restore(sess, \"./best_data-mnist.ckpt\")\n",
    "    \n",
    "    \n",
    "    #sess.run(tf.global_variables_initializer())\n",
    "\n",
    "    pred = sess.run(output,feed_dict={input_data: [your_image]})[0]\n",
    "    pred = np.argmax(pred)\n",
    "    print('original label: {} , prediction: {} '.format(validation_labels[image_id], pred))"
   ]
  },
  {
   "cell_type": "code",
   "execution_count": null,
   "metadata": {},
   "outputs": [],
   "source": []
  },
  {
   "cell_type": "code",
   "execution_count": null,
   "metadata": {},
   "outputs": [],
   "source": []
  }
 ],
 "metadata": {
  "kernelspec": {
   "display_name": "Python 3",
   "language": "python",
   "name": "python3"
  },
  "language_info": {
   "codemirror_mode": {
    "name": "ipython",
    "version": 3
   },
   "file_extension": ".py",
   "mimetype": "text/x-python",
   "name": "python",
   "nbconvert_exporter": "python",
   "pygments_lexer": "ipython3",
   "version": "3.6.6"
  }
 },
 "nbformat": 4,
 "nbformat_minor": 2
}
