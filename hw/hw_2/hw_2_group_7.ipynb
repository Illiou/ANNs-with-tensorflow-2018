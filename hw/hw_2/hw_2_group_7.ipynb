{
 "cells": [
  {
   "cell_type": "markdown",
   "metadata": {},
   "source": [
    "# Homework 2 Group 7\n",
    "\n",
    "- First download the MNIST dataset from http://yann.lecun.com/exdb/mnist/ and put it in a folder called MNIST on the same level as this notebook (or change the base_path under `data preparation and visualization` to the folder where you saved the dataset)"
   ]
  },
  {
   "cell_type": "markdown",
   "metadata": {},
   "source": [
    "## General setup"
   ]
  },
  {
   "cell_type": "code",
   "execution_count": 1,
   "metadata": {},
   "outputs": [],
   "source": [
    "# Main imports\n",
    "import numpy as np\n",
    "import tensorflow as tf\n",
    "import struct\n",
    "import matplotlib.pyplot as plt"
   ]
  },
  {
   "cell_type": "code",
   "execution_count": 2,
   "metadata": {},
   "outputs": [],
   "source": [
    "# General tensorflow settings\n",
    "config = tf.ConfigProto()\n",
    "# Use GPU in incremental mode (is ignored on CPU version)\n",
    "config.gpu_options.allow_growth=True\n",
    "# Add config=config in every tf.Session() -> tf.Session(config=config)"
   ]
  },
  {
   "cell_type": "code",
   "execution_count": 3,
   "metadata": {},
   "outputs": [],
   "source": [
    "# Helper function to read the data\n",
    "def read_idx(filename):\n",
    "    with open(filename, 'rb') as f:\n",
    "        zero, data_type, dims = struct.unpack('>HBB', f.read(4))\n",
    "        shape = tuple(struct.unpack('>I', f.read(4))[0] for d in range(dims))\n",
    "        return np.frombuffer(f.read(), dtype=np.uint8).reshape(shape)"
   ]
  },
  {
   "cell_type": "markdown",
   "metadata": {},
   "source": [
    "## Data preparation and visualization"
   ]
  },
  {
   "cell_type": "code",
   "execution_count": 4,
   "metadata": {},
   "outputs": [
    {
     "name": "stdout",
     "output_type": "stream",
     "text": [
      "Training data shape: (60000, 28, 28)\n",
      "Training labels shape: (60000,)\n",
      "Validation data shape: (10000, 28, 28)\n",
      "Validation labels shape: (10000,)\n"
     ]
    }
   ],
   "source": [
    "# Read all training and validation data\n",
    "base_path = './MNIST/'\n",
    "\n",
    "# Read training data and labels\n",
    "training_data = read_idx('{}train-images.idx3-ubyte'.format(base_path))\n",
    "training_labels = read_idx('{}train-labels.idx1-ubyte'.format(base_path))\n",
    "\n",
    "# Read validation data and labels\n",
    "validation_data = read_idx('{}t10k-images.idx3-ubyte'.format(base_path))\n",
    "validation_labels = read_idx('{}t10k-labels.idx1-ubyte'.format(base_path))\n",
    "\n",
    "\n",
    "# Print some information about the data\n",
    "print('Training data shape: {}'.format(training_data.shape))\n",
    "print('Training labels shape: {}'.format(training_labels.shape))\n",
    "\n",
    "print('Validation data shape: {}'.format(validation_data.shape))\n",
    "print('Validation labels shape: {}'.format(validation_labels.shape))"
   ]
  },
  {
   "cell_type": "code",
   "execution_count": 5,
   "metadata": {},
   "outputs": [
    {
     "data": {
      "image/png": "[encoded data removed]",
      "text/plain": [
       "<Figure size 720x720 with 10 Axes>"
      ]
     },
     "metadata": {
      "needs_background": "light"
     },
     "output_type": "display_data"
    }
   ],
   "source": [
    "# Visualize the first 10 images from the training data set\n",
    "\n",
    "# Create a figure with 10 subplots\n",
    "fig, ax = plt.subplots(1, 10, figsize=(10,10))\n",
    "\n",
    "# Loop over the 10 subplots and print the corresponding image\n",
    "for i in range(10):\n",
    "    # Get the corresponing label and set it as the title of the plot\n",
    "    ax[i].set_title(training_labels[i])\n",
    "    # Show the image with grayscale colormap\n",
    "    ax[i].imshow(training_data[i], cmap=\"gray\")\n",
    "    # Turn axis labeling off\n",
    "    ax[i].axis(\"off\")"
   ]
  },
  {
   "cell_type": "code",
   "execution_count": 6,
   "metadata": {},
   "outputs": [],
   "source": [
    "# Create the dataset for tensorflow\n",
    "\n",
    "# First we reset the graph\n",
    "tf.reset_default_graph()\n",
    "\n",
    "# Now we use the tf.data library to create a tensorflow dataset\n",
    "training_dataset = tf.data.Dataset.from_tensor_slices((training_data, training_labels))\n",
    "validation_dataset = tf.data.Dataset.from_tensor_slices((validation_data, validation_labels))\n",
    "\n",
    "# Now we specifiy the respective batch sizes\n",
    "training_batch_size = 128\n",
    "validation_batch_size = 10000\n",
    "training_dataset = training_dataset.batch(training_batch_size)\n",
    "validation_dataset = validation_dataset.batch(validation_batch_size)\n",
    "\n",
    "# Shuffle the training data in each epoch.\n",
    "training_dataset = training_dataset.shuffle(buffer_size=128, reshuffle_each_iteration=True)"
   ]
  },
  {
   "cell_type": "code",
   "execution_count": 7,
   "metadata": {},
   "outputs": [],
   "source": [
    "# Create the iterator \n",
    "\n",
    "# First we create the iterator\n",
    "iterator = tf.data.Iterator.from_structure(training_dataset.output_types,\n",
    "                                           training_dataset.output_shapes)\n",
    "\n",
    "# We name the get_next method of the iterator to use it as a shortcut\n",
    "next_batch = iterator.get_next()\n",
    "\n",
    "# We prepare the initializer operations for both the training and the validation dataset\n",
    "training_init_op = iterator.make_initializer(training_dataset)\n",
    "validation_init_op = iterator.make_initializer(validation_dataset)"
   ]
  },
  {
   "cell_type": "markdown",
   "metadata": {},
   "source": [
    "## Building the model"
   ]
  },
  {
   "cell_type": "markdown",
   "metadata": {},
   "source": [
    "![](https://i.imgur.com/cRjXO96.png)"
   ]
  },
  {
   "cell_type": "code",
   "execution_count": 8,
   "metadata": {},
   "outputs": [],
   "source": [
    "# First we will format the data in the correct way\n",
    "\n",
    "# We define our input data and the corresponding labels\n",
    "input_data = next_batch[0]\n",
    "labels = tf.cast(next_batch[1], dtype=tf.int64)\n",
    "\n",
    "# We reshape our data\n",
    "# The first dimension (batch_size) stays the same and the second and third dimension collapses to one dimension\n",
    "input_data = tf.reshape(input_data, shape=[-1, 784])\n",
    "# We have to cast the data to float32 (from uint8)\n",
    "input_data = tf.cast(input_data, dtype=tf.float32)\n",
    "\n",
    "# We transform our labels to one hot vectors\n",
    "one_hot_labels = tf.one_hot(labels, 10)"
   ]
  },
  {
   "cell_type": "code",
   "execution_count": 9,
   "metadata": {},
   "outputs": [],
   "source": [
    "# Now we will define the forward step \n",
    "\n",
    "# First we will define the weights and the biases\n",
    "rands = tf.random_normal([784, 10], mean=0.0, stddev=2e-06)\n",
    "weights = tf.Variable(rands, dtype=tf.float32)\n",
    "\n",
    "biases = tf.Variable(tf.zeros(10), dtype=tf.float32)\n",
    "\n",
    "# Now we will mutiply the input with the weights to get the drive (logits)\n",
    "logits = input_data @ weights + biases\n",
    "\n",
    "# And use the softmax activation function\n",
    "output = tf.nn.softmax(logits)"
   ]
  },
  {
   "cell_type": "code",
   "execution_count": 10,
   "metadata": {},
   "outputs": [],
   "source": [
    "# Then we have to define our metrics\n",
    "\n",
    "# Calculate the cross entropy\n",
    "cross_entropy = tf.nn.softmax_cross_entropy_with_logits_v2(labels=one_hot_labels, logits=logits)\n",
    "loss = tf.reduce_mean(cross_entropy)\n",
    "\n",
    "# Define the accuracy\n",
    "match_bools = tf.equal(labels, tf.argmax(output, axis=1))\n",
    "accuracy = tf.reduce_mean(tf.cast(match_bools, dtype=tf.float32))"
   ]
  },
  {
   "cell_type": "code",
   "execution_count": 11,
   "metadata": {},
   "outputs": [],
   "source": [
    "# We also have to define our optimizer\n",
    "\n",
    "# First we need to specify a learning rate \n",
    "learning_rate = 1e-5\n",
    "# Then we create an optimizer\n",
    "optimizer = tf.train.GradientDescentOptimizer(learning_rate=learning_rate)\n",
    "# And tell the optimizer that it should minimize the loss\n",
    "training_step = optimizer.minimize(loss)"
   ]
  },
  {
   "cell_type": "code",
   "execution_count": 12,
   "metadata": {},
   "outputs": [],
   "source": [
    "# In the end we will specify some summaries, so that we can visualize our progress with tensorboard\n",
    "\n",
    "# Specify the variables for the summaries\n",
    "tf.summary.scalar('loss', loss)\n",
    "tf.summary.scalar('accuracy', accuracy)\n",
    "\n",
    "# Now we will merge our two summary scalars\n",
    "merged_summaries = tf.summary.merge_all()\n",
    "\n",
    "# We also have two specify two summary file writers \n",
    "train_writer = tf.summary.FileWriter('./summaries/train/')\n",
    "validation_writer = tf.summary.FileWriter('./summaries/validation/', flush_secs=1)"
   ]
  },
  {
   "cell_type": "markdown",
   "metadata": {},
   "source": [
    "## Training"
   ]
  },
  {
   "cell_type": "code",
   "execution_count": 13,
   "metadata": {},
   "outputs": [],
   "source": [
    "# Finally we can train our model\n",
    "\n",
    "# First we specify the number of epochs\n",
    "epochs = 5\n",
    "\n",
    "# We safely create our tensorflow session and pass our config parameters (for correct GPU usage, if GPU available)\n",
    "with tf.Session(config=config) as sess:\n",
    "    \n",
    "    # We initialize our variables\n",
    "    sess.run(tf.global_variables_initializer())\n",
    "    \n",
    "    # We define a step counter (for the summaries)\n",
    "    global_step = 0\n",
    "    \n",
    "    # We will run our training as often as specified in epochs\n",
    "    for _ in range(epochs):\n",
    "        \n",
    "        # Training Part\n",
    "        # We have to load the training data into the iterator\n",
    "        sess.run(training_init_op)\n",
    "        \n",
    "        # We have to loop over all our batches in every epoch\n",
    "        while True:\n",
    "            try:\n",
    "                # We train with one batch and read the summary and save it in the variable summary\n",
    "                _, summary = sess.run((training_step, merged_summaries))\n",
    "                \n",
    "                # We write the summary to the disk at the specified location\n",
    "                train_writer.add_summary(summary, global_step)\n",
    "                \n",
    "                # We update our step counter\n",
    "                global_step += 1\n",
    "                \n",
    "            # After we finished all batches, we catch the OutOfRangeErrpr and break\n",
    "            except tf.errors.OutOfRangeError:\n",
    "                break\n",
    "                \n",
    "        # Validation Part\n",
    "        # We have to load the validation data into the iterator\n",
    "        sess.run(validation_init_op)\n",
    "        # We read out the summary for the validation data (without training)\n",
    "        summary = sess.run(merged_summaries)\n",
    "        # And we save the summary to the disk\n",
    "        validation_writer.add_summary(summary, global_step) "
   ]
  },
  {
   "cell_type": "markdown",
   "metadata": {},
   "source": [
    "**Visualization with TensorBoard:** \n",
    "- Run `tensorboard --logdir='./summaries'` in the terminal at the same location as this file. If the webbrowser does not start automatically, click on this link http://localhost:6006/ or on the link provided there\n",
    "- Alternatively, uncomment and run the cell below (wait for the training to finish)"
   ]
  },
  {
   "cell_type": "code",
   "execution_count": 14,
   "metadata": {},
   "outputs": [],
   "source": [
    "# !tensorboard --logdir='./summaries'"
   ]
  }
 ],
 "metadata": {
  "kernelspec": {
   "display_name": "Python 3",
   "language": "python",
   "name": "python3"
  },
  "language_info": {
   "codemirror_mode": {
    "name": "ipython",
    "version": 3
   },
   "file_extension": ".py",
   "mimetype": "text/x-python",
   "name": "python",
   "nbconvert_exporter": "python",
   "pygments_lexer": "ipython3",
   "version": "3.6.7"
  }
 },
 "nbformat": 4,
 "nbformat_minor": 2
}
