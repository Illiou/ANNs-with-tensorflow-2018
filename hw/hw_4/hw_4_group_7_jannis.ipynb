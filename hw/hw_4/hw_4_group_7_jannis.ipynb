{
 "cells": [
  {
   "cell_type": "markdown",
   "metadata": {},
   "source": [
    "# Homework 4 Group 7\n",
    "\n",
    "- First download the SVHN dataset from http://ufldl.stanford.edu/housenumbers/ and put it in a folder called SVHN on the same level as this notebook (or change the basepath under `data preparation and visualization` to the folder where you saved the dataset)"
   ]
  },
  {
   "cell_type": "code",
   "execution_count": 391,
   "metadata": {},
   "outputs": [],
   "source": [
    "# Specify, if we are in training mode, the test mode will be automatically activated\n",
    "training = True\n",
    "test = False if training else True"
   ]
  },
  {
   "cell_type": "markdown",
   "metadata": {},
   "source": [
    "## General setup"
   ]
  },
  {
   "cell_type": "code",
   "execution_count": 392,
   "metadata": {},
   "outputs": [],
   "source": [
    "# Main imports\n",
    "import numpy as np\n",
    "import tensorflow as tf\n",
    "import struct\n",
    "import matplotlib.pyplot as plt"
   ]
  },
  {
   "cell_type": "code",
   "execution_count": 393,
   "metadata": {},
   "outputs": [],
   "source": [
    "# General tensorflow settings\n",
    "config = tf.ConfigProto()\n",
    "# Use GPU in incremental mode (is ignored on CPU version)\n",
    "config.gpu_options.allow_growth=True\n",
    "# Add config=config in every tf.Session() -> tf.Session(config=config)"
   ]
  },
  {
   "cell_type": "code",
   "execution_count": 394,
   "metadata": {},
   "outputs": [
    {
     "name": "stdout",
     "output_type": "stream",
     "text": [
      "73257\n"
     ]
    }
   ],
   "source": [
    "# Helper function to read the data\n",
    "base_path = './SVHN'\n",
    "import scipy.io\n",
    "\n",
    "def load_svhn(path):\n",
    "    \n",
    "    matfile = scipy.io.loadmat(path)\n",
    "    images = matfile['X']\n",
    "    images = np.expand_dims(images,0)\n",
    "    images = np.swapaxes(images, 0,4)\n",
    "    images = np.squeeze(images)\n",
    "    labels = matfile['y']\n",
    "    labels = np.squeeze(labels)\n",
    "    print(len(labels))\n",
    "    \n",
    "    validation_images = images[:10000,:,:,:]\n",
    "    training_images = images[10000:,:,:,:]\n",
    "    validation_labels = labels[:10000]\n",
    "    training_labels = labels[10000:]\n",
    "    \n",
    "    return training_images, training_labels, validation_images, validation_labels\n",
    "\n",
    "\n",
    "training_data, training_labels, validation_data, validation_labels = load_svhn('{}/train_32x32.mat'.format(base_path))"
   ]
  },
  {
   "cell_type": "markdown",
   "metadata": {},
   "source": [
    "## Data preparation and visualization"
   ]
  },
  {
   "cell_type": "code",
   "execution_count": 395,
   "metadata": {},
   "outputs": [
    {
     "name": "stdout",
     "output_type": "stream",
     "text": [
      "Training data shape: (63257, 32, 32, 3)\n",
      "Training labels shape: (63257,)\n",
      "Validation data shape: (10000, 32, 32, 3)\n",
      "Validation labels shape: (10000,)\n"
     ]
    },
    {
     "data": {
      "image/png": "[encoded data removed]",
      "text/plain": [
       "<Figure size 720x720 with 10 Axes>"
      ]
     },
     "metadata": {
      "needs_background": "light"
     },
     "output_type": "display_data"
    }
   ],
   "source": [
    "# Print some information about the data\n",
    "print('Training data shape: {}'.format(training_data.shape))\n",
    "print('Training labels shape: {}'.format(training_labels.shape))\n",
    "\n",
    "print('Validation data shape: {}'.format(validation_data.shape))\n",
    "print('Validation labels shape: {}'.format(validation_labels.shape))\n",
    "\n",
    "# Visualize the first 10 images from the training data set\n",
    "\n",
    "# Create a figure with 10 subplots\n",
    "fig, ax = plt.subplots(1, 10, figsize=(10,10))\n",
    "\n",
    "# Loop over the 10 subplots and print the corresponding image\n",
    "for i in range(10):\n",
    "    # Get the corresponing label and set it as the title of the plot\n",
    "    ax[i].set_title(training_labels[i])\n",
    "    # Show the image with grayscale colormap\n",
    "    ax[i].imshow(training_data[i], cmap=\"gray\")\n",
    "    # Turn axis labeling off\n",
    "    ax[i].axis(\"off\")"
   ]
  },
  {
   "cell_type": "code",
   "execution_count": 396,
   "metadata": {},
   "outputs": [],
   "source": [
    "# Create the dataset for tensorflow\n",
    "\n",
    "# First we reset the graph\n",
    "tf.reset_default_graph()\n",
    "\n",
    "# Now we use the tf.data library to create a tensorflow dataset\n",
    "training_dataset = tf.data.Dataset.from_tensor_slices((training_data, training_labels))\n",
    "validation_dataset = tf.data.Dataset.from_tensor_slices((validation_data, validation_labels))\n",
    "\n",
    "# Now we specifiy the respective batch sizes\n",
    "training_batch_size = 64\n",
    "validation_batch_size = 10000\n",
    "training_dataset = training_dataset.batch(training_batch_size)\n",
    "validation_dataset = validation_dataset.batch(validation_batch_size)\n",
    "\n",
    "# Shuffle the training data in each epoch.\n",
    "training_dataset = training_dataset.shuffle(buffer_size=len(training_data), reshuffle_each_iteration=True)"
   ]
  },
  {
   "cell_type": "code",
   "execution_count": 397,
   "metadata": {},
   "outputs": [],
   "source": [
    "# Create the iterator \n",
    "\n",
    "# First we create the iterator\n",
    "iterator = tf.data.Iterator.from_structure(training_dataset.output_types,\n",
    "                                           training_dataset.output_shapes)\n",
    "\n",
    "# We name the get_next method of the iterator to use it as a shortcut\n",
    "next_batch = iterator.get_next()\n",
    "\n",
    "# We prepare the initializer operations for both the training and the validation dataset\n",
    "training_init_op = iterator.make_initializer(training_dataset)\n",
    "validation_init_op = iterator.make_initializer(validation_dataset)"
   ]
  },
  {
   "cell_type": "markdown",
   "metadata": {},
   "source": [
    "## Building the model\n",
    "\n",
    "- information about layers, parameters etc here"
   ]
  },
  {
   "cell_type": "code",
   "execution_count": 398,
   "metadata": {},
   "outputs": [],
   "source": [
    "# First we will format the data in the correct way\n",
    "\n",
    "# We define our input data and the corresponding labels\n",
    "input_data = next_batch[0]\n",
    "# We have to cast the data to float32 (from uint8)\n",
    "input_data = tf.cast(input_data, dtype=tf.float32)\n",
    "\n",
    "# We transform our input to gray scale, to speed up training and the color should have no information in this dataset\n",
    "standard_input =  tf.image.rgb_to_grayscale(input_data)\n",
    "# We \"normalize\" our input\n",
    "standard_input = tf.map_fn(lambda image: tf.image.per_image_standardization(image), standard_input)\n",
    "\n",
    "# We have to cast our labels to int64\n",
    "labels = tf.cast(next_batch[1], dtype=tf.int64)\n",
    "# We transform our labels to one hot vectors\n",
    "one_hot_labels = tf.one_hot(labels, 10)"
   ]
  },
  {
   "cell_type": "code",
   "execution_count": 399,
   "metadata": {},
   "outputs": [],
   "source": [
    "# Apply the first convolution \n",
    "with tf.variable_scope(\"conv_layer1\"):\n",
    "    kernel_size = 5\n",
    "    kernel_number = 32\n",
    "    channels = 1\n",
    "    stride = 1\n",
    "    padding = 'SAME'\n",
    "    activation_function = tf.tanh #tf.nn.leaky_relu\n",
    "    #kernels = tf.Variable(tf.truncated_normal([kernel_size,\n",
    "    #                                           kernel_size,\n",
    "     #                                          channels,\n",
    "      #                                         kernel_number],\n",
    "       #                                       stddev=0.1))\n",
    "    kernels = tf.get_variable(name=\"conv_layer1\", shape=[kernel_size, kernel_size, channels, kernel_number],\n",
    "                         initializer=tf.contrib.layers.xavier_initializer_conv2d())\n",
    "    biases = tf.Variable(tf.zeros([kernel_number]))\n",
    "    convolution = tf.nn.conv2d(standard_input,\n",
    "                              kernels,\n",
    "                              strides=[1, stride, stride, 1],\n",
    "                              padding=padding)\n",
    "    feature_maps1 = activation_function(convolution + biases)   "
   ]
  },
  {
   "cell_type": "code",
   "execution_count": 400,
   "metadata": {},
   "outputs": [],
   "source": [
    "# Apply the first pooling\n",
    "with tf.variable_scope(\"pool_layer1\"):\n",
    "    kernel_size = 2\n",
    "    stride = 2\n",
    "    padding = 'SAME'\n",
    "    pooling1 = tf.nn.max_pool(feature_maps1,\n",
    "                              ksize=[1, kernel_size, kernel_size, 1],\n",
    "                              strides=[1, stride, stride, 1],\n",
    "                              padding=padding)"
   ]
  },
  {
   "cell_type": "code",
   "execution_count": 401,
   "metadata": {},
   "outputs": [],
   "source": [
    "# Apply the second convolution\n",
    "with tf.variable_scope(\"conv_layer2\"):\n",
    "    kernel_size = 3\n",
    "    kernel_number = 64\n",
    "    channels = 32\n",
    "    stride = 1\n",
    "    padding = 'SAME'\n",
    "    activation_function = tf.tanh #tf.nn.leaky_relu\n",
    "    #kernels = tf.Variable(tf.truncated_normal([kernel_size,\n",
    "     #                                          kernel_size,\n",
    "      #                                         channels,\n",
    "       #                                        kernel_number],\n",
    "        #                                      stddev=0.1)) \n",
    "    kernels = tf.get_variable(name=\"conv_layer1\", shape=[kernel_size, kernel_size, channels, kernel_number],\n",
    "                         initializer=tf.contrib.layers.xavier_initializer_conv2d())\n",
    "    biases = tf.Variable(tf.zeros([kernel_number]))\n",
    "    convolution = tf.nn.conv2d(pooling1,\n",
    "                              kernels,\n",
    "                              strides=[1, stride, stride, 1],\n",
    "                              padding=padding)\n",
    "    feature_maps2 = activation_function(convolution + biases)"
   ]
  },
  {
   "cell_type": "code",
   "execution_count": 402,
   "metadata": {},
   "outputs": [],
   "source": [
    "# Drop out!\n",
    "# Define a placeholder to change probability between training\n",
    "# and validation time.\n",
    "keep_prob = tf.placeholder_with_default(1.0, shape=[])"
   ]
  },
  {
   "cell_type": "code",
   "execution_count": 403,
   "metadata": {},
   "outputs": [],
   "source": [
    "# Apply the second pooling\n",
    "with tf.variable_scope(\"pool_layer2\"):\n",
    "    kernel_size = 2\n",
    "    stride = 2\n",
    "    padding = 'SAME'\n",
    "    pooling2 = tf.nn.max_pool(feature_maps2,\n",
    "                              ksize=[1, kernel_size, kernel_size, 1],\n",
    "                              strides=[1, stride, stride, 1],\n",
    "                              padding=padding)\n",
    "    # Apply droput after the second pooling\n",
    "    dropout = tf.nn.dropout(pooling2, keep_prob)"
   ]
  },
  {
   "cell_type": "code",
   "execution_count": 404,
   "metadata": {},
   "outputs": [],
   "source": [
    "# Apply the first fully connected layer\n",
    "with tf.variable_scope(\"fully1\"):\n",
    "    new_shape = [-1, int(np.prod(dropout.shape[1:]))]\n",
    "    flat_input = tf.reshape(dropout, shape=new_shape)\n",
    "    old_neuron_number = int(flat_input.shape[1])\n",
    "    neuron_number = 256\n",
    "    activation_function = tf.tanh #tf.nn.leaky_relu\n",
    "    \n",
    "    weights_shape = [old_neuron_number, neuron_number]\n",
    "    #xavier_val = np.sqrt(6.0/(np.sum(weights_shape)))\n",
    "    #weights_init = tf.initializers.random_uniform(minval=-xavier_val, maxval=xavier_val)\n",
    "    #weights = tf.get_variable(\"weights1\", weights_shape, initializer=weights_init)\n",
    "    weights = tf.get_variable(\"fully1\", shape=weights_shape, initializer=tf.contrib.layers.xavier_initializer())\n",
    "    \n",
    "    # stddev = 1/np.sqrt(float(old_neuron_number))\n",
    "    # rands = tf.truncated_normal([old_neuron_number, neuron_number], stddev=stddev)\n",
    "    # weights = tf.Variable(rands, dtype=tf.float32)\n",
    "    \n",
    "    biases = tf.Variable(tf.zeros(neuron_number), dtype=tf.float32)\n",
    "\n",
    "    # Now we will mutiply the input with the weights to get the drive \n",
    "    drive = flat_input @ weights + biases\n",
    "\n",
    "    # And use the activation function\n",
    "    output = activation_function(drive) \n"
   ]
  },
  {
   "cell_type": "code",
   "execution_count": 405,
   "metadata": {},
   "outputs": [],
   "source": [
    "# Apply the output layer\n",
    "with tf.variable_scope(\"output\"):\n",
    "    flat_input = output\n",
    "    old_neuron_number = int(flat_input.shape[1])\n",
    "    neuron_number = 10\n",
    "    activation_function = tf.nn.softmax\n",
    "   \n",
    "    weights_shape = [old_neuron_number, neuron_number]\n",
    "    #xavier_val = np.sqrt(6.0/(np.sum(weights_shape)))\n",
    "    #weights_init = tf.initializers.random_uniform(minval=-xavier_val, maxval=xavier_val)\n",
    "    #weights = tf.get_variable(\"weights2\", weights_shape, initializer=weights_init) \n",
    "    weights = tf.get_variable(\"output\", shape=weights_shape, initializer=tf.contrib.layers.xavier_initializer())\n",
    "    \n",
    "    # stddev = 1/tf.sqrt(float(old_neuron_number))\n",
    "    # rands = tf.truncated_normal([old_neuron_number, neuron_number], stddev=stddev)\n",
    "    # weights = tf.Variable(rands, dtype=tf.float32)\n",
    "    \n",
    "    biases = tf.Variable(tf.zeros(neuron_number), dtype=tf.float32)\n",
    "\n",
    "    # Now we will mutiply the input with the weights to get the drive (logits)\n",
    "    logits = flat_input @ weights + biases\n",
    "\n",
    "    # And use the softmax activation function\n",
    "    prediction = activation_function(logits)\n",
    "    prediction = tf.identity(prediction, name=\"prediction\")"
   ]
  },
  {
   "cell_type": "code",
   "execution_count": 406,
   "metadata": {},
   "outputs": [],
   "source": [
    "# Then we have to define our metrics\n",
    "\n",
    "# Calculate the cross entropy\n",
    "cross_entropy = tf.nn.softmax_cross_entropy_with_logits_v2(labels=one_hot_labels, logits=logits)\n",
    "loss = tf.reduce_mean(cross_entropy)\n",
    "\n",
    "# Define the accuracy\n",
    "match_bools = tf.equal(labels, tf.argmax(prediction, axis=1))\n",
    "accuracy = tf.reduce_mean(tf.cast(match_bools, dtype=tf.float32))"
   ]
  },
  {
   "cell_type": "code",
   "execution_count": 407,
   "metadata": {},
   "outputs": [],
   "source": [
    "# We also have to define our optimizer\n",
    "# Global step for decaying learning rate\n",
    "global_step = tf.Variable(0)\n",
    "# First we need to specify a learning rate \n",
    "learning_rate = tf.train.exponential_decay(0.05, global_step, 10000, 0.96, staircase=True)\n",
    "# Then we create an optimizer\n",
    "optimizer = tf.train.AdagradOptimizer(learning_rate)\n",
    "# And tell the optimizer that it should minimize the loss\n",
    "training_step = optimizer.minimize(loss, global_step=global_step)"
   ]
  },
  {
   "cell_type": "code",
   "execution_count": 408,
   "metadata": {},
   "outputs": [],
   "source": [
    "# In the end we will specify some summaries, so that we can visualize our progress with tensorboard\n",
    "\n",
    "# Specify the variables for the summaries\n",
    "tf.summary.scalar('loss', loss)\n",
    "tf.summary.scalar('accuracy', accuracy)\n",
    "\n",
    "# Now we will merge our two summary scalars\n",
    "merged_summaries = tf.summary.merge_all()\n",
    "\n",
    "# We also have two specify two summary file writers \n",
    "train_writer = tf.summary.FileWriter('./summaries/train/')\n",
    "validation_writer = tf.summary.FileWriter('./summaries/validation/')"
   ]
  },
  {
   "cell_type": "code",
   "execution_count": 409,
   "metadata": {},
   "outputs": [
    {
     "name": "stdout",
     "output_type": "stream",
     "text": [
      "ep: 0, acc: 0.7971000075340271\n",
      "ep: 1, acc: 0.8238000273704529\n",
      "ep: 2, acc: 0.8184000253677368\n",
      "ep: 3, acc: 0.828000009059906\n",
      "ep: 4, acc: 0.8155999779701233\n",
      "ep: 5, acc: 0.8154000043869019\n",
      "ep: 6, acc: 0.8281999826431274\n",
      "ep: 7, acc: 0.8324000239372253\n",
      "ep: 8, acc: 0.828000009059906\n",
      "ep: 9, acc: 0.8256999850273132\n",
      "ep: 10, acc: 0.8310999870300293\n",
      "ep: 11, acc: 0.8378000259399414\n",
      "ep: 12, acc: 0.8292999863624573\n",
      "ep: 13, acc: 0.8399999737739563\n",
      "ep: 14, acc: 0.8385000228881836\n",
      "ep: 15, acc: 0.8385000228881836\n",
      "ep: 16, acc: 0.8414999842643738\n",
      "ep: 17, acc: 0.8388000130653381\n",
      "ep: 18, acc: 0.8450000286102295\n",
      "ep: 19, acc: 0.8414000272750854\n",
      "ep: 20, acc: 0.8434000015258789\n",
      "ep: 21, acc: 0.8450000286102295\n",
      "ep: 22, acc: 0.8434000015258789\n",
      "ep: 23, acc: 0.8406000137329102\n",
      "ep: 24, acc: 0.8435999751091003\n",
      "ep: 25, acc: 0.8402000069618225\n",
      "ep: 26, acc: 0.8407999873161316\n",
      "ep: 27, acc: 0.8374999761581421\n",
      "ep: 28, acc: 0.8410999774932861\n",
      "ep: 29, acc: 0.8424000144004822\n",
      "ep: 30, acc: 0.8359000086784363\n",
      "ep: 31, acc: 0.8400999903678894\n",
      "ep: 32, acc: 0.8410000205039978\n",
      "ep: 33, acc: 0.8402000069618225\n",
      "ep: 34, acc: 0.8392999768257141\n",
      "ep: 35, acc: 0.8442999720573425\n",
      "ep: 36, acc: 0.8435999751091003\n",
      "ep: 37, acc: 0.8428999781608582\n",
      "ep: 38, acc: 0.8428999781608582\n",
      "ep: 39, acc: 0.843500018119812\n",
      "saving checkpoint with acc.: 0.843500018119812 at: ./checkpoints/model.ckpt\n",
      "needed 0:08:20.910929 seconds\n"
     ]
    }
   ],
   "source": [
    "# Only run this cell, if we are in training mode\n",
    "if training:\n",
    "    # Finally we can train our model\n",
    "    import datetime\n",
    "    timeNow = datetime.datetime.now()\n",
    "    # First we specify the number of epochs\n",
    "    epochs = 40\n",
    "\n",
    "    # We create a saver to save the model and run predictions later on\n",
    "    saver = tf.train.Saver()\n",
    "\n",
    "\n",
    "    # We safely create our tensorflow session and pass our config parameters (for correct GPU usage, if GPU available)\n",
    "    with tf.Session(config=config) as sess:\n",
    "\n",
    "        # We initialize our variables\n",
    "        sess.run(tf.global_variables_initializer())\n",
    "\n",
    "        # We define a step counter (for the summaries)\n",
    "        global_steps = 0\n",
    "\n",
    "        # We will run our training as often as specified in epochs\n",
    "        for ep in range(epochs):\n",
    "\n",
    "            # Training Part\n",
    "            # We have to load the training data into the iterator\n",
    "            sess.run(training_init_op)\n",
    "\n",
    "            # We have to loop over all our batches in every epoch\n",
    "            while True:\n",
    "                try:\n",
    "                    # We train with one batch and read the summary and save it in the variable summary\n",
    "                    _, summary = sess.run((training_step, merged_summaries), feed_dict={keep_prob:0.5})\n",
    "\n",
    "                    # We write the summary to the disk at the specified location\n",
    "                    train_writer.add_summary(summary, global_steps)\n",
    "\n",
    "                    # We update our step counter\n",
    "                    global_steps += 1\n",
    "\n",
    "                # After we finished all batches, we catch the OutOfRangeError and break\n",
    "                except tf.errors.OutOfRangeError:\n",
    "                    break\n",
    "\n",
    "            # Validation Part\n",
    "            # We have to load the validation data into the iterator\n",
    "            sess.run(validation_init_op)\n",
    "            # We read out the summary  for the validation data (without training)\n",
    "            summary, acc = sess.run((merged_summaries, accuracy))\n",
    "            print('ep: {}, acc: {}'.format(ep, acc))\n",
    "\n",
    "            # And we save the summary to the disk\n",
    "            validation_writer.add_summary(summary, global_steps) \n",
    "\n",
    "        # Save the model at the end\n",
    "        save_path = './checkpoints/model.ckpt'\n",
    "        saver.save(sess, save_path, global_step=global_steps)\n",
    "        print('saving checkpoint with acc.: {} at: {}'.format(acc, save_path))\n",
    "    # Print the training time  \n",
    "    print('needed {} seconds'.format(datetime.datetime.now()-timeNow))"
   ]
  },
  {
   "cell_type": "code",
   "execution_count": 410,
   "metadata": {},
   "outputs": [],
   "source": [
    "# Only run this cell in test mode\n",
    "if test:\n",
    "    save_path = './checkpoints/model.ckpt-1240'\n",
    "    with tf.Session(config=config) as sess:\n",
    "        \n",
    "        # Do not initialize variables by their initialization values!\n",
    "        \n",
    "        # Create a new Saver instance\n",
    "        saver = tf.train.Saver()\n",
    "        \n",
    "        # Restore variable values by stored values\n",
    "        saver.restore(sess, save_path)\n",
    "        \n",
    "        # Exchange this with test Part!\n",
    "        # Validation Part\n",
    "        # We have to load the validation data into the iterator\n",
    "        sess.run(validation_init_op)\n",
    "        # We read out the summary  for the validation data (without training)\n",
    "        summary, acc = sess.run((merged_summaries, accuracy))\n",
    "        print('Test acc: {}'.format(acc))\n",
    "\n",
    "        # And we save the summary to the disk\n",
    "        validation_writer.add_summary(summary, global_step)       "
   ]
  }
 ],
 "metadata": {
  "kernelspec": {
   "display_name": "Python 3",
   "language": "python",
   "name": "python3"
  },
  "language_info": {
   "codemirror_mode": {
    "name": "ipython",
    "version": 3
   },
   "file_extension": ".py",
   "mimetype": "text/x-python",
   "name": "python",
   "nbconvert_exporter": "python",
   "pygments_lexer": "ipython3",
   "version": "3.6.6"
  }
 },
 "nbformat": 4,
 "nbformat_minor": 2
}
